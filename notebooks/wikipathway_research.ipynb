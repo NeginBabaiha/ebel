{
 "cells": [
  {
   "cell_type": "markdown",
   "id": "d031ca9f",
   "metadata": {},
   "source": [
    "# WikiPathways"
   ]
  },
  {
   "cell_type": "code",
   "execution_count": 1,
   "id": "13349c60",
   "metadata": {
    "ExecuteTime": {
     "end_time": "2022-01-26T09:08:10.487359Z",
     "start_time": "2022-01-26T09:08:10.417283Z"
    }
   },
   "outputs": [],
   "source": [
    "import requests"
   ]
  },
  {
   "cell_type": "markdown",
   "id": "38f31aaa",
   "metadata": {
    "ExecuteTime": {
     "end_time": "2022-01-26T08:38:13.042396Z",
     "start_time": "2022-01-26T08:38:13.026396Z"
    }
   },
   "source": [
    "## API\n",
    "Wikipathways has an API here: https://webservice.wikipathways.org/ui/\n",
    "\n",
    "### Research\n",
    "#### /getPathway\n",
    "Useless"
   ]
  },
  {
   "cell_type": "code",
   "execution_count": 5,
   "id": "0596a961",
   "metadata": {
    "ExecuteTime": {
     "end_time": "2022-01-26T09:10:10.752222Z",
     "start_time": "2022-01-26T09:10:10.191146Z"
    }
   },
   "outputs": [
    {
     "data": {
      "text/plain": [
       "{'pathway': {'gpml': '',\n",
       "  'id': 'Wp4945',\n",
       "  'url': 'https://www.wikipathways.org/index.php/Pathway:Wp4945',\n",
       "  'name': '',\n",
       "  'species': '',\n",
       "  'revision': 0}}"
      ]
     },
     "execution_count": 5,
     "metadata": {},
     "output_type": "execute_result"
    }
   ],
   "source": [
    "resp = requests.get('https://webservice.wikipathways.org/getPathway?pwId=wp4945&format=json')\n",
    "resp.json()"
   ]
  },
  {
   "cell_type": "markdown",
   "id": "eedf63fb",
   "metadata": {},
   "source": [
    "#### /getPathwayInfo\n",
    "Useless"
   ]
  },
  {
   "cell_type": "code",
   "execution_count": 6,
   "id": "25e1edd6",
   "metadata": {
    "ExecuteTime": {
     "end_time": "2022-01-26T09:10:15.182086Z",
     "start_time": "2022-01-26T09:10:14.631051Z"
    }
   },
   "outputs": [
    {
     "data": {
      "text/plain": [
       "{'pathwayInfo': {'id': 'Wp4946',\n",
       "  'url': 'https://www.wikipathways.org/index.php/Pathway:Wp4946',\n",
       "  'name': '',\n",
       "  'species': '',\n",
       "  'revision': 0}}"
      ]
     },
     "execution_count": 6,
     "metadata": {},
     "output_type": "execute_result"
    }
   ],
   "source": [
    "resp = requests.get('https://webservice.wikipathways.org/getPathwayInfo?pwId=wp4946&format=json')\n",
    "resp.json()"
   ]
  },
  {
   "cell_type": "markdown",
   "id": "aa5d8f1b",
   "metadata": {},
   "source": [
    "#### /listPathways\n",
    "Ok for getting the list if needed..."
   ]
  },
  {
   "cell_type": "code",
   "execution_count": 8,
   "id": "19221730",
   "metadata": {
    "ExecuteTime": {
     "end_time": "2022-01-26T09:14:05.371738Z",
     "start_time": "2022-01-26T09:13:57.959387Z"
    }
   },
   "outputs": [
    {
     "data": {
      "text/plain": [
       "[{'id': 'WP100',\n",
       "  'url': 'https://www.wikipathways.org/index.php/Pathway:WP100',\n",
       "  'name': 'Glutathione metabolism',\n",
       "  'species': 'Homo sapiens',\n",
       "  'revision': '107114'},\n",
       " {'id': 'WP106',\n",
       "  'url': 'https://www.wikipathways.org/index.php/Pathway:WP106',\n",
       "  'name': 'Alanine and aspartate metabolism',\n",
       "  'species': 'Homo sapiens',\n",
       "  'revision': '114258'},\n",
       " {'id': 'WP107',\n",
       "  'url': 'https://www.wikipathways.org/index.php/Pathway:WP107',\n",
       "  'name': 'Translation factors',\n",
       "  'species': 'Homo sapiens',\n",
       "  'revision': '117851'}]"
      ]
     },
     "execution_count": 8,
     "metadata": {},
     "output_type": "execute_result"
    }
   ],
   "source": [
    "api_call = 'https://webservice.wikipathways.org/listPathways?organism=Homo%20sapiens&format=json'\n",
    "resp = requests.get(api_call)\n",
    "json_content = resp.json()\n",
    "json_content['pathways'][:3]"
   ]
  },
  {
   "cell_type": "markdown",
   "id": "43bc2d75",
   "metadata": {},
   "source": [
    "#### /listOrganisms\n",
    "To get names of organisms used in API calls"
   ]
  },
  {
   "cell_type": "code",
   "execution_count": 9,
   "id": "b0f547e5",
   "metadata": {
    "ExecuteTime": {
     "end_time": "2022-01-26T09:25:34.692182Z",
     "start_time": "2022-01-26T09:25:34.133028Z"
    }
   },
   "outputs": [
    {
     "data": {
      "text/plain": [
       "['Unspecified', 'Acetobacterium woodii', 'Anopheles gambiae']"
      ]
     },
     "execution_count": 9,
     "metadata": {},
     "output_type": "execute_result"
    }
   ],
   "source": [
    "api_call = 'https://webservice.wikipathways.org/listOrganisms?format=json'\n",
    "resp = requests.get(api_call)\n",
    "json_content = resp.json()\n",
    "json_content['organisms'][:3]"
   ]
  },
  {
   "cell_type": "markdown",
   "id": "25267f73",
   "metadata": {},
   "source": [
    "#### /getPathwayAs\n",
    "The following `fileType`s work:\n",
    "* png\n",
    "* gpml\n",
    "* svg"
   ]
  },
  {
   "cell_type": "code",
   "execution_count": 12,
   "id": "ca347ff6",
   "metadata": {
    "ExecuteTime": {
     "end_time": "2022-01-26T09:33:29.116980Z",
     "start_time": "2022-01-26T09:33:28.442630Z"
    },
    "scrolled": true
   },
   "outputs": [],
   "source": [
    "api_call = 'https://webservice.wikipathways.org/getPathwayAs?fileType=gpml&pwId=WP4946&format=json'\n",
    "resp = requests.get(api_call)\n",
    "json_content = resp.json()\n",
    "# json_content['data']"
   ]
  },
  {
   "cell_type": "markdown",
   "id": "0834dc3f",
   "metadata": {},
   "source": [
    "### API Conclusions\n",
    "Not very helpful, will try data dump downloads.\n",
    "\n",
    "## Data Dumps\n",
    "Can use GPML files of AOP-linked WikiPathways to connect AOPs to WikiPathways and use the `.ttl` WP files to populate the network. The interactions of each WP will need to annotated with the linked AOP/KE/Stressors"
   ]
  },
  {
   "cell_type": "code",
   "execution_count": null,
   "id": "a7d942d5",
   "metadata": {},
   "outputs": [],
   "source": []
  }
 ],
 "metadata": {
  "kernelspec": {
   "display_name": "Python 3 (ipykernel)",
   "language": "python",
   "name": "python3"
  },
  "language_info": {
   "codemirror_mode": {
    "name": "ipython",
    "version": 3
   },
   "file_extension": ".py",
   "mimetype": "text/x-python",
   "name": "python",
   "nbconvert_exporter": "python",
   "pygments_lexer": "ipython3",
   "version": "3.10.0"
  }
 },
 "nbformat": 4,
 "nbformat_minor": 5
}
