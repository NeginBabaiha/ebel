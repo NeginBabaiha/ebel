{
 "cells": [
  {
   "cell_type": "markdown",
   "id": "77400b8b",
   "metadata": {},
   "source": [
    "# Notebook Aim\n",
    "To investigate .ttl files and parse them"
   ]
  },
  {
   "cell_type": "code",
   "execution_count": 1,
   "id": "7c4bd658",
   "metadata": {
    "ExecuteTime": {
     "end_time": "2022-01-27T07:50:12.140084Z",
     "start_time": "2022-01-27T07:50:11.857071Z"
    }
   },
   "outputs": [],
   "source": [
    "# https://github.com/RDFLib/rdflib\n",
    "#!pip install rdflib\n",
    "from rdflib import Graph"
   ]
  },
  {
   "cell_type": "markdown",
   "id": "0e6a08ea",
   "metadata": {
    "ExecuteTime": {
     "end_time": "2022-01-26T10:13:51.922295Z",
     "start_time": "2022-01-26T10:13:51.915286Z"
    }
   },
   "source": [
    "## Ontology File\n",
    "The RDf data dump comes with an ontology file that can use to know which RDF types to expect in the `.ttl` files."
   ]
  },
  {
   "cell_type": "code",
   "execution_count": 9,
   "id": "1e4a87d1",
   "metadata": {
    "ExecuteTime": {
     "end_time": "2022-01-27T07:52:19.318633Z",
     "start_time": "2022-01-27T07:52:19.298090Z"
    }
   },
   "outputs": [],
   "source": [
    "from rdflib.extras.external_graph_libs import rdflib_to_networkx_multidigraph\n",
    "import networkx as nx\n",
    "import matplotlib.pyplot as plt\n",
    "\n",
    "url = 'https://www.w3.org/TeamSubmission/turtle/tests/test-30.ttl'\n",
    "\n",
    "onto_graph = Graph()\n",
    "result = onto_graph.parse(\"./wpOntology.ttl\", format='turtle')\n",
    "\n",
    "# G = rdflib_to_networkx_multidigraph(result)\n",
    "\n",
    "# # Plot Networkx instance of RDF Graph\n",
    "# pos = nx.spring_layout(G, scale=2)\n",
    "# plt.figure(figsize=(50,50))\n",
    "# edge_labels = nx.get_edge_attributes(G, 'r')\n",
    "# nx.draw_networkx_edge_labels(G, pos, edge_labels=edge_labels)\n",
    "# nx.draw(G, with_labels=True)\n",
    "\n",
    "# #if not in interactive mode for \n",
    "\n",
    "# plt.savefig(\"ontology_graph.png\")"
   ]
  },
  {
   "cell_type": "markdown",
   "id": "5ac4344d",
   "metadata": {},
   "source": [
    "## Test WP File - WP111"
   ]
  },
  {
   "cell_type": "code",
   "execution_count": 3,
   "id": "655317bc",
   "metadata": {
    "ExecuteTime": {
     "end_time": "2022-01-27T07:50:21.716895Z",
     "start_time": "2022-01-27T07:50:21.605190Z"
    }
   },
   "outputs": [],
   "source": [
    "g = Graph()\n",
    "\n",
    "# Parse an RDF file\n",
    "wp111g = g.parse(\"./WP111.ttl\")"
   ]
  },
  {
   "cell_type": "code",
   "execution_count": 4,
   "id": "74b7dcfe",
   "metadata": {
    "ExecuteTime": {
     "end_time": "2022-01-27T07:50:21.732895Z",
     "start_time": "2022-01-27T07:50:21.718895Z"
    }
   },
   "outputs": [
    {
     "data": {
      "text/plain": [
       "2353"
      ]
     },
     "execution_count": 4,
     "metadata": {},
     "output_type": "execute_result"
    }
   ],
   "source": [
    "len(wp111g)  # Number of subj/pred/obj"
   ]
  },
  {
   "cell_type": "code",
   "execution_count": 14,
   "id": "f1507d2b",
   "metadata": {
    "ExecuteTime": {
     "end_time": "2022-01-27T09:34:06.065318Z",
     "start_time": "2022-01-27T09:34:06.041255Z"
    }
   },
   "outputs": [
    {
     "name": "stdout",
     "output_type": "stream",
     "text": [
      "NDUFS3\n"
     ]
    }
   ],
   "source": [
    "# Getting labels of GeneProducts\n",
    "q = \"\"\"\n",
    "    PREFIX dc: <http://purl.org/dc/elements/1.1/>\n",
    "    PREFIX rdf: <http://www.w3.org/1999/02/22-rdf-syntax-ns#>\n",
    "    PREFIX rdfs: <http://www.w3.org/2000/01/rdf-schema#>\n",
    "\n",
    "    SELECT ?label\n",
    "    WHERE {\n",
    "        ?p rdf:type wp:GeneProduct .\n",
    "\n",
    "        ?p rdfs:label ?label .\n",
    "    }\n",
    "\"\"\"\n",
    "for r in wp111g.query(q):\n",
    "    print(r[\"label\"])\n",
    "    break"
   ]
  },
  {
   "cell_type": "markdown",
   "id": "608a7080",
   "metadata": {},
   "source": [
    "### Parse Nodes"
   ]
  },
  {
   "cell_type": "code",
   "execution_count": 108,
   "id": "f8edbbb0",
   "metadata": {
    "ExecuteTime": {
     "end_time": "2022-01-27T12:17:33.926945Z",
     "start_time": "2022-01-27T12:17:33.891511Z"
    }
   },
   "outputs": [],
   "source": [
    "# Get and parse nodes\n",
    "# \";\" can be used when same subj/pred/obj used - https://www.stardog.com/tutorials/sparql#ordering-results\n",
    "q = \"\"\"\n",
    "    SELECT ?ttl_id ?type ?label ?id_source ?identifier\n",
    "    WHERE {\n",
    "        ?ttl_id rdf:type wp:DataNode ;\n",
    "            rdfs:label ?label ;\n",
    "            dc:source ?id_source ;\n",
    "            dcterms:identifier ?identifier ;\n",
    "            rdf:type ?type .\n",
    "    }\n",
    "\"\"\"\n",
    "\n",
    "nodes = dict()\n",
    "for match in wp111g.query(q):\n",
    "    result_dict = {key: str(val) for key, val in match.asdict().items()}\n",
    "    result_dict[\"type\"] = match.type.split(\"#\")[1]\n",
    "    \n",
    "    # rdf type comes after #, don't need \"DataNode\" since it's a duplicate\n",
    "    if result_dict[\"type\"] == \"DataNode\":\n",
    "        continue\n",
    "    \n",
    "    ttl_id = result_dict.pop(\"ttl_id\")\n",
    "    nodes[ttl_id] = result_dict"
   ]
  },
  {
   "cell_type": "markdown",
   "id": "99797f0c",
   "metadata": {},
   "source": [
    "### Parse Interactions Using Node Data"
   ]
  },
  {
   "cell_type": "code",
   "execution_count": 111,
   "id": "d31c7bdb",
   "metadata": {
    "ExecuteTime": {
     "end_time": "2022-01-27T12:30:07.846685Z",
     "start_time": "2022-01-27T12:30:07.811674Z"
    }
   },
   "outputs": [
    {
     "name": "stdout",
     "output_type": "stream",
     "text": [
      "http://rdf.wikipathways.org/Pathway/WP111_r117097/Complex/fdc14\n",
      "http://rdf.wikipathways.org/Pathway/WP111_r117097/Complex/fdc14\n",
      "http://rdf.wikipathways.org/Pathway/WP111_r117097/Complex/fdc14\n",
      "http://rdf.wikipathways.org/Pathway/WP111_r117097/WP/Interaction/fee15\n",
      "http://rdf.wikipathways.org/Pathway/WP111_r117097/WP/Interaction/fee15\n",
      "http://rdf.wikipathways.org/Pathway/WP111_r117097/WP/Interaction/fee15\n",
      "https://identifiers.org/chebi/CHEBI:15378\n",
      "https://identifiers.org/chebi/CHEBI:15378\n",
      "http://rdf.wikipathways.org/Pathway/WP111_r117097/Complex/ad4b9\n",
      "http://rdf.wikipathways.org/Pathway/WP111_r117097/Complex/ad4b9\n",
      "http://rdf.wikipathways.org/Pathway/WP111_r117097/Complex/ad4b9\n",
      "http://rdf.wikipathways.org/Pathway/WP111_r117097/WP/Interaction/c243a\n",
      "http://rdf.wikipathways.org/Pathway/WP111_r117097/WP/Interaction/c243a\n",
      "http://rdf.wikipathways.org/Pathway/WP111_r117097/WP/Interaction/c243a\n",
      "https://identifiers.org/hmdb/HMDB0002012\n",
      "https://identifiers.org/hmdb/HMDB0002012\n",
      "https://identifiers.org/kegg.compound/C05359\n",
      "https://identifiers.org/kegg.compound/C05359\n",
      "https://identifiers.org/hmdb/HMDB0001377\n",
      "https://identifiers.org/hmdb/HMDB0001377\n",
      "https://identifiers.org/hmdb/HMDB0001377\n",
      "https://identifiers.org/hmdb/HMDB0001377\n",
      "https://identifiers.org/hmdb/HMDB0002111\n",
      "https://identifiers.org/hmdb/HMDB0002111\n",
      "https://identifiers.org/hmdb/HMDB0002111\n",
      "https://identifiers.org/hmdb/HMDB0002111\n",
      "https://identifiers.org/kegg.compound/C00524\n",
      "https://identifiers.org/kegg.compound/C00524\n",
      "https://identifiers.org/kegg.compound/C00524\n",
      "https://identifiers.org/kegg.compound/C00524\n",
      "https://identifiers.org/chebi/CHEBI:15378\n",
      "https://identifiers.org/chebi/CHEBI:15378\n",
      "http://rdf.wikipathways.org/Pathway/WP111_r117097/Complex/e62a1\n",
      "http://rdf.wikipathways.org/Pathway/WP111_r117097/Complex/e62a1\n",
      "http://rdf.wikipathways.org/Pathway/WP111_r117097/Complex/e62a1\n",
      "http://rdf.wikipathways.org/Pathway/WP111_r117097/WP/Interaction/f52f4\n",
      "http://rdf.wikipathways.org/Pathway/WP111_r117097/WP/Interaction/f52f4\n",
      "http://rdf.wikipathways.org/Pathway/WP111_r117097/WP/Interaction/f52f4\n",
      "https://identifiers.org/chebi/CHEBI:15378\n",
      "https://identifiers.org/chebi/CHEBI:15378\n",
      "https://identifiers.org/kegg.compound/C01352\n",
      "https://identifiers.org/kegg.compound/C01352\n",
      "https://identifiers.org/kegg.compound/C01352\n",
      "https://identifiers.org/kegg.compound/C01352\n",
      "https://identifiers.org/kegg.compound/C05359\n",
      "https://identifiers.org/kegg.compound/C05359\n",
      "https://identifiers.org/kegg.compound/C05359\n",
      "https://identifiers.org/kegg.compound/C05359\n",
      "https://identifiers.org/kegg.compound/C00016\n",
      "https://identifiers.org/kegg.compound/C00016\n",
      "https://identifiers.org/kegg.compound/C00016\n",
      "https://identifiers.org/kegg.compound/C00016\n",
      "https://identifiers.org/kegg.compound/C00004\n",
      "https://identifiers.org/kegg.compound/C00004\n",
      "https://identifiers.org/kegg.compound/C00004\n",
      "https://identifiers.org/kegg.compound/C00004\n",
      "https://identifiers.org/kegg.compound/C05359\n",
      "https://identifiers.org/kegg.compound/C05359\n",
      "https://identifiers.org/kegg.compound/C05359\n",
      "https://identifiers.org/kegg.compound/C05359\n",
      "https://identifiers.org/kegg.compound/C00003\n",
      "https://identifiers.org/kegg.compound/C00003\n",
      "https://identifiers.org/kegg.compound/C00003\n",
      "https://identifiers.org/kegg.compound/C00003\n",
      "https://identifiers.org/kegg.compound/C00002\n",
      "https://identifiers.org/kegg.compound/C00002\n",
      "https://identifiers.org/kegg.compound/C00002\n",
      "https://identifiers.org/kegg.compound/C00002\n",
      "https://identifiers.org/chebi/CHEBI:15378\n",
      "https://identifiers.org/chebi/CHEBI:15378\n",
      "https://identifiers.org/chebi/CHEBI:15378\n",
      "https://identifiers.org/chebi/CHEBI:15378\n",
      "https://identifiers.org/kegg.compound/C00004\n",
      "https://identifiers.org/kegg.compound/C00004\n",
      "https://identifiers.org/wikipathways/WP78\n",
      "https://identifiers.org/wikipathways/WP78\n",
      "https://identifiers.org/chebi/CHEBI:15378\n",
      "https://identifiers.org/chebi/CHEBI:15378\n",
      "https://identifiers.org/chebi/CHEBI:15378\n",
      "https://identifiers.org/chebi/CHEBI:15378\n",
      "https://identifiers.org/kegg.compound/C00524\n",
      "https://identifiers.org/kegg.compound/C00524\n",
      "https://identifiers.org/hmdb/HMDB0002012\n",
      "https://identifiers.org/hmdb/HMDB0002012\n",
      "https://identifiers.org/kegg.compound/C05359\n",
      "https://identifiers.org/kegg.compound/C05359\n",
      "https://identifiers.org/kegg.compound/C00042\n",
      "https://identifiers.org/kegg.compound/C00042\n",
      "https://identifiers.org/hmdb/HMDB0002012\n",
      "https://identifiers.org/hmdb/HMDB0002012\n",
      "https://identifiers.org/kegg.compound/C05359\n",
      "https://identifiers.org/kegg.compound/C05359\n",
      "http://rdf.wikipathways.org/Pathway/WP111_r117097/Complex/fdc14\n",
      "http://rdf.wikipathways.org/Pathway/WP111_r117097/Complex/fdc14\n",
      "http://rdf.wikipathways.org/Pathway/WP111_r117097/Complex/fdc14\n",
      "http://rdf.wikipathways.org/Pathway/WP111_r117097/WP/Interaction/id86f308da\n",
      "http://rdf.wikipathways.org/Pathway/WP111_r117097/WP/Interaction/id86f308da\n",
      "http://rdf.wikipathways.org/Pathway/WP111_r117097/WP/Interaction/id86f308da\n",
      "https://identifiers.org/kegg.compound/C01352\n",
      "https://identifiers.org/kegg.compound/C01352\n",
      "https://identifiers.org/kegg.compound/C00016\n",
      "https://identifiers.org/kegg.compound/C00016\n",
      "http://rdf.wikipathways.org/Pathway/WP111_r117097/Complex/ad4b9\n",
      "http://rdf.wikipathways.org/Pathway/WP111_r117097/Complex/ad4b9\n",
      "http://rdf.wikipathways.org/Pathway/WP111_r117097/Complex/ad4b9\n",
      "http://rdf.wikipathways.org/Pathway/WP111_r117097/WP/Interaction/c4d38\n",
      "http://rdf.wikipathways.org/Pathway/WP111_r117097/WP/Interaction/c4d38\n",
      "http://rdf.wikipathways.org/Pathway/WP111_r117097/WP/Interaction/c4d38\n"
     ]
    }
   ],
   "source": [
    "# Get and parse edges\n",
    "# \";\" can be used when same subj/pred/obj used - https://www.stardog.com/tutorials/sparql#ordering-results\n",
    "int_q = \"\"\"\n",
    "    SELECT ?ttl_id ?type ?source ?target ?identifier ?participants\n",
    "    WHERE {\n",
    "        ?ttl_id rdf:type wp:Interaction ;\n",
    "            wp:participants ?participants ;\n",
    "            wp:source ?source ;\n",
    "            wp:target ?target ;\n",
    "            rdf:type ?type .\n",
    "    }\n",
    "\"\"\"\n",
    "\n",
    "interactions = dict()\n",
    "for match in wp111g.query(int_q):\n",
    "    print(match.participants)\n",
    "    \n",
    "    # Binding always with ComplexBinding so skip Binding\n",
    "    \n",
    "    \n",
    "#     result_dict = {key: str(val) for key, val in match.asdict().items()}\n",
    "#     result_dict[\"type\"] = match.type.split(\"#\")[1]\n",
    "    \n",
    "#     # rdf type comes after #, don't need \"DataNode\" since it's a duplicate\n",
    "#     if result_dict[\"type\"] == \"DataNode\":\n",
    "#         continue\n",
    "    \n",
    "#     ttl_id = result_dict.pop(\"ttl_id\")\n",
    "#     interactions[ttl_id] = result_dict"
   ]
  },
  {
   "cell_type": "code",
   "execution_count": null,
   "id": "08de7031",
   "metadata": {},
   "outputs": [],
   "source": []
  }
 ],
 "metadata": {
  "kernelspec": {
   "display_name": "Python 3 (ipykernel)",
   "language": "python",
   "name": "python3"
  },
  "language_info": {
   "codemirror_mode": {
    "name": "ipython",
    "version": 3
   },
   "file_extension": ".py",
   "mimetype": "text/x-python",
   "name": "python",
   "nbconvert_exporter": "python",
   "pygments_lexer": "ipython3",
   "version": "3.10.0"
  }
 },
 "nbformat": 4,
 "nbformat_minor": 5
}
