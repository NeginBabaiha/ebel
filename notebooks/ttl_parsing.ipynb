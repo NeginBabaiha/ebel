{
 "cells": [
  {
   "cell_type": "markdown",
   "id": "77400b8b",
   "metadata": {},
   "source": [
    "# Notebook Aim\n",
    "To investigate .ttl files and parse them"
   ]
  },
  {
   "cell_type": "code",
   "execution_count": 1,
   "id": "7c4bd658",
   "metadata": {
    "ExecuteTime": {
     "end_time": "2022-02-01T14:56:08.810623Z",
     "start_time": "2022-02-01T14:56:08.757212Z"
    }
   },
   "outputs": [],
   "source": [
    "# https://github.com/RDFLib/rdflib\n",
    "#!pip install rdflib\n",
    "from rdflib import Graph"
   ]
  },
  {
   "cell_type": "markdown",
   "id": "0e6a08ea",
   "metadata": {
    "ExecuteTime": {
     "end_time": "2022-01-26T10:13:51.922295Z",
     "start_time": "2022-01-26T10:13:51.915286Z"
    }
   },
   "source": [
    "## Ontology File\n",
    "The RDf data dump comes with an ontology file that can use to know which RDF types to expect in the `.ttl` files."
   ]
  },
  {
   "cell_type": "code",
   "execution_count": 2,
   "id": "1e4a87d1",
   "metadata": {
    "ExecuteTime": {
     "end_time": "2022-02-01T14:56:08.842147Z",
     "start_time": "2022-02-01T14:56:08.811639Z"
    }
   },
   "outputs": [],
   "source": [
    "from rdflib.extras.external_graph_libs import rdflib_to_networkx_multidigraph\n",
    "# import networkx as nx\n",
    "# import matplotlib.pyplot as plt\n",
    "\n",
    "url = 'https://www.w3.org/TeamSubmission/turtle/tests/test-30.ttl'\n",
    "\n",
    "onto_graph = Graph()\n",
    "result = onto_graph.parse(\"./wpOntology.ttl\", format='turtle')\n",
    "\n",
    "# G = rdflib_to_networkx_multidigraph(result)\n",
    "\n",
    "# # Plot Networkx instance of RDF Graph\n",
    "# pos = nx.spring_layout(G, scale=2)\n",
    "# plt.figure(figsize=(50,50))\n",
    "# edge_labels = nx.get_edge_attributes(G, 'r')\n",
    "# nx.draw_networkx_edge_labels(G, pos, edge_labels=edge_labels)\n",
    "# nx.draw(G, with_labels=True)\n",
    "\n",
    "# #if not in interactive mode for \n",
    "\n",
    "# plt.savefig(\"ontology_graph.png\")"
   ]
  },
  {
   "cell_type": "markdown",
   "id": "5ac4344d",
   "metadata": {},
   "source": [
    "## Test WP File - WP111"
   ]
  },
  {
   "cell_type": "code",
   "execution_count": 3,
   "id": "655317bc",
   "metadata": {
    "ExecuteTime": {
     "end_time": "2022-02-01T14:56:08.922147Z",
     "start_time": "2022-02-01T14:56:08.843149Z"
    }
   },
   "outputs": [],
   "source": [
    "g = Graph()\n",
    "\n",
    "# Parse an RDF file\n",
    "wp111g = g.parse(\"./WP111.ttl\")"
   ]
  },
  {
   "cell_type": "code",
   "execution_count": 4,
   "id": "74b7dcfe",
   "metadata": {
    "ExecuteTime": {
     "end_time": "2022-02-01T14:56:08.938146Z",
     "start_time": "2022-02-01T14:56:08.923148Z"
    }
   },
   "outputs": [
    {
     "data": {
      "text/plain": [
       "2353"
      ]
     },
     "execution_count": 4,
     "metadata": {},
     "output_type": "execute_result"
    }
   ],
   "source": [
    "len(wp111g)  # Number of subj/pred/obj"
   ]
  },
  {
   "cell_type": "code",
   "execution_count": 5,
   "id": "f1507d2b",
   "metadata": {
    "ExecuteTime": {
     "end_time": "2022-02-01T14:56:09.076147Z",
     "start_time": "2022-02-01T14:56:08.939148Z"
    }
   },
   "outputs": [
    {
     "name": "stdout",
     "output_type": "stream",
     "text": [
      "NDUFS3\n"
     ]
    }
   ],
   "source": [
    "# Getting labels of GeneProducts\n",
    "q = \"\"\"\n",
    "    PREFIX dc: <http://purl.org/dc/elements/1.1/>\n",
    "    PREFIX rdf: <http://www.w3.org/1999/02/22-rdf-syntax-ns#>\n",
    "    PREFIX rdfs: <http://www.w3.org/2000/01/rdf-schema#>\n",
    "\n",
    "    SELECT ?label\n",
    "    WHERE {\n",
    "        ?p rdf:type wp:GeneProduct .\n",
    "\n",
    "        ?p rdfs:label ?label .\n",
    "    }\n",
    "\"\"\"\n",
    "for r in wp111g.query(q):\n",
    "    print(r[\"label\"])\n",
    "    break"
   ]
  },
  {
   "cell_type": "markdown",
   "id": "0e255567",
   "metadata": {},
   "source": [
    "## Parse PubRefs"
   ]
  },
  {
   "cell_type": "code",
   "execution_count": 13,
   "id": "a2c6229c",
   "metadata": {
    "ExecuteTime": {
     "end_time": "2022-02-01T15:02:14.259560Z",
     "start_time": "2022-02-01T15:02:14.238841Z"
    }
   },
   "outputs": [
    {
     "name": "stdout",
     "output_type": "stream",
     "text": [
      "{'id': 'https://identifiers.org/pubmed/23746447', 'datasource': 'PubMed', 'datasource_id': '23746447', 'link': 'http://www.ncbi.nlm.nih.gov/pubmed/23746447'}\n",
      "{'id': 'https://identifiers.org/pubmed/22902835', 'datasource': 'PubMed', 'datasource_id': '22902835', 'link': 'http://www.ncbi.nlm.nih.gov/pubmed/22902835'}\n",
      "{'id': 'https://identifiers.org/pubmed/30030361', 'datasource': 'PubMed', 'datasource_id': '30030361', 'link': 'http://www.ncbi.nlm.nih.gov/pubmed/30030361'}\n"
     ]
    }
   ],
   "source": [
    "pubref_query = \"\"\"\n",
    "SELECT ?id ?data_source ?data_source_id ?link\n",
    "    WHERE {\n",
    "        ?id rdf:type wp:PublicationReference ;\n",
    "            rdf:type ?type .\n",
    "            ?id foaf:page ?link .\n",
    "            ?id dc:source ?data_source .\n",
    "            ?id dcterms:identifier ?data_source_id .\n",
    "    }\n",
    "\"\"\"\n",
    "\n",
    "for match in wp111g.query(pubref_query):\n",
    "    result_dict = {key: str(val) for key, val in match.asdict().items()}\n",
    "    print(result_dict)"
   ]
  },
  {
   "cell_type": "markdown",
   "id": "a56a195e",
   "metadata": {},
   "source": [
    "### Parse Pathways"
   ]
  },
  {
   "cell_type": "code",
   "execution_count": 27,
   "id": "c26eff1e",
   "metadata": {
    "ExecuteTime": {
     "end_time": "2022-02-01T15:55:52.234633Z",
     "start_time": "2022-02-01T15:55:52.221632Z"
    }
   },
   "outputs": [],
   "source": [
    "pathway_query = \"\"\"\n",
    "SELECT ?id ?data_source ?data_source_id ?description ?organism ?label ?type\n",
    "    WHERE {\n",
    "        ?id rdf:type wp:Pathway .\n",
    "        ?id rdf:type ?type .\n",
    "        ?id dc:source ?data_source .\n",
    "        ?id dcterms:identifier ?data_source_id .\n",
    "        OPTIONAL {\n",
    "            ?id wp:organismName ?organism .\n",
    "            ?id dcterms:description ?description .\n",
    "        }\n",
    "    FILTER (?type = \"wp:Pathway\")\n",
    "    }\n",
    "\"\"\"\n",
    "\n",
    "for match in wp111g.query(pathway_query):\n",
    "    result_dict = {key: str(val) for key, val in match.asdict().items()}\n",
    "    print(result_dict)"
   ]
  },
  {
   "cell_type": "code",
   "execution_count": 35,
   "id": "e16c1614",
   "metadata": {
    "ExecuteTime": {
     "end_time": "2022-02-01T16:01:48.535865Z",
     "start_time": "2022-02-01T16:01:48.526746Z"
    }
   },
   "outputs": [],
   "source": [
    "pathway_query = \"\"\"\n",
    "SELECT ?id ?data_source ?data_source_id ?type\n",
    "    WHERE {\n",
    "        ?id rdf:type wp:Pathway .\n",
    "        ?id rdf:type ?type .\n",
    "        ?id dc:source ?data_source .\n",
    "        ?id dcterms:identifier ?data_source_id .\n",
    "    FILTER (?type = \"http://vocabularies.wikipathways.org/wp#Pathway\")\n",
    "    }\n",
    "\"\"\"\n",
    "\n",
    "for match in wp111g.query(pathway_query):\n",
    "    result_dict = {key: str(val) for key, val in match.asdict().items()}\n",
    "    print(result_dict)"
   ]
  },
  {
   "cell_type": "markdown",
   "id": "608a7080",
   "metadata": {},
   "source": [
    "### Parse Nodes"
   ]
  },
  {
   "cell_type": "code",
   "execution_count": 6,
   "id": "f8edbbb0",
   "metadata": {
    "ExecuteTime": {
     "end_time": "2022-02-01T14:56:09.124207Z",
     "start_time": "2022-02-01T14:56:09.077147Z"
    }
   },
   "outputs": [],
   "source": [
    "def parse_nodes(wikipathway, query: str) -> dict:\n",
    "    \"\"\"Parse nodes in the wikipathway graph.\"\"\"\n",
    "    nodes = dict()\n",
    "    for match in wikipathway.query(query):\n",
    "        result_dict = {key: str(val) for key, val in match.asdict().items()}\n",
    "        node_types = {int_type.split(\"#\")[1] for int_type in result_dict.pop(\"types\").split(\",\")}\n",
    "\n",
    "        # don't need \"DataNode\" since it's a duplicate\n",
    "        node_types.remove('DataNode')\n",
    "\n",
    "        # Defensive code\n",
    "        if len(node_types) != 1:  # Should only be one node type\n",
    "            raise ValueError(f\"Too many node types: {node_types}\")\n",
    "\n",
    "        # Parse participants of wp:Complex nodes\n",
    "        if \"Complex\" in node_types:\n",
    "            result_dict[\"participants\"] = set(result_dict[\"participants\"].split(\",\"))\n",
    "\n",
    "        result_dict[\"type\"] = list(node_types)[0]\n",
    "\n",
    "        ttl_id = result_dict.pop(\"ttl_id\")\n",
    "        nodes[ttl_id] = result_dict\n",
    "\n",
    "    return nodes\n",
    "\n",
    "noncomplex_node_query = \"\"\"\n",
    "    SELECT ?ttl_id (GROUP_CONCAT(?type;SEPARATOR=\",\") AS ?types) ?label ?id_source ?identifier\n",
    "    WHERE {\n",
    "        ?ttl_id rdf:type wp:DataNode ;\n",
    "            rdf:type ?type .\n",
    "            ?ttl_id rdfs:label ?label .\n",
    "            ?ttl_id dc:source ?id_source .\n",
    "            ?ttl_id dcterms:identifier ?identifier .\n",
    "    }\n",
    "    GROUP BY ?ttl_id\n",
    "\"\"\"\n",
    "\n",
    "complex_node_query = \"\"\"\n",
    "    SELECT ?ttl_id (GROUP_CONCAT(?type;SEPARATOR=\",\") AS ?types) (GROUP_CONCAT(?ps ;SEPARATOR=\",\") AS ?participants)\n",
    "    WHERE {\n",
    "        ?ttl_id rdf:type wp:Complex ;\n",
    "            rdf:type ?type ;\n",
    "            wp:participants ?ps .\n",
    "    }\n",
    "    GROUP BY ?ttl_id\n",
    "\"\"\"\n",
    "\n",
    "noncomplex_nodes = parse_nodes(wikipathway=wp111g, query=noncomplex_node_query)\n",
    "complex_nodes = parse_nodes(wikipathway=wp111g, query=complex_node_query)\n",
    "nodes = {**noncomplex_nodes, **complex_nodes}"
   ]
  },
  {
   "cell_type": "code",
   "execution_count": 7,
   "id": "51b2488e",
   "metadata": {
    "ExecuteTime": {
     "end_time": "2022-02-01T14:56:09.140155Z",
     "start_time": "2022-02-01T14:56:09.125156Z"
    }
   },
   "outputs": [
    {
     "name": "stdout",
     "output_type": "stream",
     "text": [
      "https://identifiers.org/ncbigene/4722\n",
      "{'label': 'NDUFS3', 'id_source': 'Entrez Gene', 'identifier': '4722', 'type': 'GeneProduct'}\n"
     ]
    }
   ],
   "source": [
    "for key, value in nodes.items():\n",
    "    print(key)\n",
    "    print(value)\n",
    "    break"
   ]
  },
  {
   "cell_type": "markdown",
   "id": "99797f0c",
   "metadata": {},
   "source": [
    "### Parse Interactions"
   ]
  },
  {
   "cell_type": "code",
   "execution_count": 8,
   "id": "d31c7bdb",
   "metadata": {
    "ExecuteTime": {
     "end_time": "2022-02-01T14:56:09.186155Z",
     "start_time": "2022-02-01T14:56:09.141156Z"
    }
   },
   "outputs": [
    {
     "data": {
      "text/plain": [
       "{'types': {'Catalysis', 'DirectedInteraction'},\n",
       " 'source': 'http://rdf.wikipathways.org/Pathway/WP111_r117097/Complex/ad4b9',\n",
       " 'target': 'http://rdf.wikipathways.org/Pathway/WP111_r117097/WP/Interaction/c4d38',\n",
       " 'participants': {'http://rdf.wikipathways.org/Pathway/WP111_r117097/Complex/ad4b9',\n",
       "  'http://rdf.wikipathways.org/Pathway/WP111_r117097/WP/Interaction/c4d38'}}"
      ]
     },
     "execution_count": 8,
     "metadata": {},
     "output_type": "execute_result"
    }
   ],
   "source": [
    "# Get and parse edges\n",
    "# \";\" can be used when same subj/pred/obj used - https://www.stardog.com/tutorials/sparql#ordering-results\n",
    "int_q = \"\"\"\n",
    "    SELECT ?ttl_id (GROUP_CONCAT(?type;SEPARATOR=\",\") AS ?types) ?source ?target ?identifier (GROUP_CONCAT(?ps ;SEPARATOR=\",\") AS ?participants)\n",
    "    WHERE {\n",
    "        ?ttl_id rdf:type wp:Interaction ;\n",
    "            wp:participants ?ps ;\n",
    "            rdf:type ?type .\n",
    "        OPTIONAL {\n",
    "            ?ttl_id wp:source ?source .\n",
    "            ?ttl_id wp:target ?target .\n",
    "        }\n",
    "    }\n",
    "    GROUP BY ?ttl_id\n",
    "\"\"\"\n",
    "\n",
    "interactions = dict()\n",
    "for match in wp111g.query(int_q):\n",
    "    result_dict = {key: str(val) for key, val in match.asdict().items()}\n",
    "    interaction_types = {int_type.split(\"#\")[1] for int_type in result_dict[\"types\"].split(\",\")}\n",
    "    result_dict[\"participants\"] = set(result_dict[\"participants\"].split(\",\"))\n",
    "    \n",
    "    # don't need \"Interaction\"\n",
    "    interaction_types.remove(\"Interaction\")\n",
    "    \n",
    "    # Binding always with ComplexBinding so keep only ComplexBinding\n",
    "    if \"ComplexBinding\" in interaction_types:\n",
    "        result_dict[\"types\"] = {\"ComplexBinding\"}\n",
    "        \n",
    "    else:result_dict[\"types\"]  = interaction_types\n",
    "    \n",
    "    ttl_id = result_dict.pop(\"ttl_id\")\n",
    "    interactions[ttl_id] = result_dict\n",
    "\n",
    "result_dict"
   ]
  },
  {
   "cell_type": "markdown",
   "id": "4cfd58bf",
   "metadata": {
    "ExecuteTime": {
     "end_time": "2022-02-01T07:00:13.280105Z",
     "start_time": "2022-02-01T07:00:13.275106Z"
    }
   },
   "source": [
    "## Check Nodes in Parsed Interactions"
   ]
  },
  {
   "cell_type": "code",
   "execution_count": 9,
   "id": "5492cca5",
   "metadata": {
    "ExecuteTime": {
     "end_time": "2022-02-01T14:56:09.202156Z",
     "start_time": "2022-02-01T14:56:09.187157Z"
    }
   },
   "outputs": [
    {
     "name": "stdout",
     "output_type": "stream",
     "text": [
      "http://rdf.wikipathways.org/Pathway/WP111_r117097/WP/Interaction/fee15\n",
      "http://rdf.wikipathways.org/Pathway/WP111_r117097/WP/Interaction/c243a\n",
      "http://rdf.wikipathways.org/Pathway/WP111_r117097/WP/Interaction/f52f4\n",
      "http://rdf.wikipathways.org/Pathway/WP111_r117097/WP/Interaction/id86f308da\n",
      "http://rdf.wikipathways.org/Pathway/WP111_r117097/WP/Interaction/c4d38\n"
     ]
    }
   ],
   "source": [
    "for iid, metadata in interactions.items():\n",
    "    for node_id in metadata[\"participants\"]:\n",
    "        if node_id not in nodes:\n",
    "            print(node_id)"
   ]
  },
  {
   "cell_type": "code",
   "execution_count": null,
   "id": "c153048d",
   "metadata": {},
   "outputs": [],
   "source": []
  }
 ],
 "metadata": {
  "kernelspec": {
   "display_name": "Python 3 (ipykernel)",
   "language": "python",
   "name": "python3"
  },
  "language_info": {
   "codemirror_mode": {
    "name": "ipython",
    "version": 3
   },
   "file_extension": ".py",
   "mimetype": "text/x-python",
   "name": "python",
   "nbconvert_exporter": "python",
   "pygments_lexer": "ipython3",
   "version": "3.10.0"
  }
 },
 "nbformat": 4,
 "nbformat_minor": 5
}
