{
 "cells": [
  {
   "cell_type": "markdown",
   "id": "77400b8b",
   "metadata": {},
   "source": [
    "# Notebook Aim\n",
    "To investigate .ttl files and parse them"
   ]
  },
  {
   "cell_type": "code",
   "execution_count": 1,
   "id": "7c4bd658",
   "metadata": {
    "ExecuteTime": {
     "end_time": "2022-01-31T17:03:07.014989Z",
     "start_time": "2022-01-31T17:03:06.901190Z"
    }
   },
   "outputs": [],
   "source": [
    "# https://github.com/RDFLib/rdflib\n",
    "#!pip install rdflib\n",
    "from rdflib import Graph"
   ]
  },
  {
   "cell_type": "markdown",
   "id": "0e6a08ea",
   "metadata": {
    "ExecuteTime": {
     "end_time": "2022-01-26T10:13:51.922295Z",
     "start_time": "2022-01-26T10:13:51.915286Z"
    }
   },
   "source": [
    "## Ontology File\n",
    "The RDf data dump comes with an ontology file that can use to know which RDF types to expect in the `.ttl` files."
   ]
  },
  {
   "cell_type": "code",
   "execution_count": 2,
   "id": "1e4a87d1",
   "metadata": {
    "ExecuteTime": {
     "end_time": "2022-01-31T17:03:07.045989Z",
     "start_time": "2022-01-31T17:03:07.015990Z"
    }
   },
   "outputs": [],
   "source": [
    "from rdflib.extras.external_graph_libs import rdflib_to_networkx_multidigraph\n",
    "# import networkx as nx\n",
    "# import matplotlib.pyplot as plt\n",
    "\n",
    "url = 'https://www.w3.org/TeamSubmission/turtle/tests/test-30.ttl'\n",
    "\n",
    "onto_graph = Graph()\n",
    "result = onto_graph.parse(\"./wpOntology.ttl\", format='turtle')\n",
    "\n",
    "# G = rdflib_to_networkx_multidigraph(result)\n",
    "\n",
    "# # Plot Networkx instance of RDF Graph\n",
    "# pos = nx.spring_layout(G, scale=2)\n",
    "# plt.figure(figsize=(50,50))\n",
    "# edge_labels = nx.get_edge_attributes(G, 'r')\n",
    "# nx.draw_networkx_edge_labels(G, pos, edge_labels=edge_labels)\n",
    "# nx.draw(G, with_labels=True)\n",
    "\n",
    "# #if not in interactive mode for \n",
    "\n",
    "# plt.savefig(\"ontology_graph.png\")"
   ]
  },
  {
   "cell_type": "markdown",
   "id": "5ac4344d",
   "metadata": {},
   "source": [
    "## Test WP File - WP111"
   ]
  },
  {
   "cell_type": "code",
   "execution_count": 3,
   "id": "655317bc",
   "metadata": {
    "ExecuteTime": {
     "end_time": "2022-01-31T17:03:07.123989Z",
     "start_time": "2022-01-31T17:03:07.046990Z"
    }
   },
   "outputs": [],
   "source": [
    "g = Graph()\n",
    "\n",
    "# Parse an RDF file\n",
    "wp111g = g.parse(\"./WP111.ttl\")"
   ]
  },
  {
   "cell_type": "code",
   "execution_count": 4,
   "id": "74b7dcfe",
   "metadata": {
    "ExecuteTime": {
     "end_time": "2022-01-31T17:03:07.139989Z",
     "start_time": "2022-01-31T17:03:07.124991Z"
    }
   },
   "outputs": [
    {
     "data": {
      "text/plain": [
       "2353"
      ]
     },
     "execution_count": 4,
     "metadata": {},
     "output_type": "execute_result"
    }
   ],
   "source": [
    "len(wp111g)  # Number of subj/pred/obj"
   ]
  },
  {
   "cell_type": "code",
   "execution_count": 5,
   "id": "f1507d2b",
   "metadata": {
    "ExecuteTime": {
     "end_time": "2022-01-31T17:03:07.295993Z",
     "start_time": "2022-01-31T17:03:07.140993Z"
    }
   },
   "outputs": [
    {
     "name": "stdout",
     "output_type": "stream",
     "text": [
      "NDUFS3\n"
     ]
    }
   ],
   "source": [
    "# Getting labels of GeneProducts\n",
    "q = \"\"\"\n",
    "    PREFIX dc: <http://purl.org/dc/elements/1.1/>\n",
    "    PREFIX rdf: <http://www.w3.org/1999/02/22-rdf-syntax-ns#>\n",
    "    PREFIX rdfs: <http://www.w3.org/2000/01/rdf-schema#>\n",
    "\n",
    "    SELECT ?label\n",
    "    WHERE {\n",
    "        ?p rdf:type wp:GeneProduct .\n",
    "\n",
    "        ?p rdfs:label ?label .\n",
    "    }\n",
    "\"\"\"\n",
    "for r in wp111g.query(q):\n",
    "    print(r[\"label\"])\n",
    "    break"
   ]
  },
  {
   "cell_type": "markdown",
   "id": "608a7080",
   "metadata": {},
   "source": [
    "### Parse Nodes"
   ]
  },
  {
   "cell_type": "code",
   "execution_count": 20,
   "id": "f8edbbb0",
   "metadata": {
    "ExecuteTime": {
     "end_time": "2022-01-31T17:16:19.204213Z",
     "start_time": "2022-01-31T17:16:19.157215Z"
    }
   },
   "outputs": [
    {
     "data": {
      "text/plain": [
       "{'label': 'COX8A',\n",
       " 'id_source': 'Entrez Gene',\n",
       " 'identifier': '1351',\n",
       " 'type': 'GeneProduct'}"
      ]
     },
     "execution_count": 20,
     "metadata": {},
     "output_type": "execute_result"
    }
   ],
   "source": [
    "# Get and parse nodes\n",
    "# \";\" can be used when same subj/pred/obj used - https://www.stardog.com/tutorials/sparql#ordering-results\n",
    "q = \"\"\"\n",
    "    SELECT ?ttl_id (GROUP_CONCAT(?type;SEPARATOR=\",\") AS ?types) ?label ?id_source ?identifier\n",
    "    WHERE {\n",
    "        ?ttl_id rdf:type wp:DataNode ;\n",
    "            rdfs:label ?label ;\n",
    "            dc:source ?id_source ;\n",
    "            dcterms:identifier ?identifier ;\n",
    "            rdf:type ?type .\n",
    "    }\n",
    "    GROUP BY ?ttl_id\n",
    "\"\"\"\n",
    "\n",
    "nodes = dict()\n",
    "for match in wp111g.query(q):\n",
    "    result_dict = {key: str(val) for key, val in match.asdict().items()}\n",
    "    node_types = [int_type.split(\"#\")[1] for int_type in result_dict.pop(\"types\").split(\",\")]\n",
    "    \n",
    "    # don't need \"DataNode\" since it's a duplicate\n",
    "    node_types.remove('DataNode')\n",
    "    \n",
    "    # Defensive code\n",
    "    if len(node_types) != 1:  # Should only be one node type\n",
    "        raise ValueError(f\"Too many node types: {node_types}\")\n",
    "    \n",
    "    result_dict[\"type\"] = node_types[0]\n",
    "    \n",
    "    ttl_id = result_dict.pop(\"ttl_id\")\n",
    "    nodes[ttl_id] = result_dict\n",
    "result_dict"
   ]
  },
  {
   "cell_type": "markdown",
   "id": "99797f0c",
   "metadata": {},
   "source": [
    "### Parse Interactions Using Node Data"
   ]
  },
  {
   "cell_type": "code",
   "execution_count": 23,
   "id": "d31c7bdb",
   "metadata": {
    "ExecuteTime": {
     "end_time": "2022-01-31T17:17:03.523884Z",
     "start_time": "2022-01-31T17:17:03.492260Z"
    }
   },
   "outputs": [
    {
     "name": "stdout",
     "output_type": "stream",
     "text": [
      "ad726\n",
      "d057a\n",
      "a4aef\n",
      "b92fd\n",
      "c4d38\n",
      "b2b00\n",
      "eb56f\n",
      "b3d7d\n",
      "b17ae\n",
      "id86f308da\n",
      "f52f4\n",
      "f0372\n",
      "c243a\n",
      "fee15\n",
      "f713d\n",
      "fa8bc\n",
      "b0e4a\n",
      "cfb2a\n",
      "cdee2\n",
      "feb3f\n"
     ]
    }
   ],
   "source": [
    "# Get and parse edges\n",
    "# \";\" can be used when same subj/pred/obj used - https://www.stardog.com/tutorials/sparql#ordering-results\n",
    "int_q = \"\"\"\n",
    "    SELECT ?ttl_id (GROUP_CONCAT(?type;SEPARATOR=\",\") AS ?types) ?source ?target ?identifier (GROUP_CONCAT(?ps ;SEPARATOR=\",\") AS ?participants)\n",
    "    WHERE {\n",
    "        ?ttl_id rdf:type wp:Interaction ;\n",
    "            wp:participants ?ps ;\n",
    "            wp:source ?source ;\n",
    "            wp:target ?target ;\n",
    "            rdf:type ?type .\n",
    "    }\n",
    "    GROUP BY ?ttl_id\n",
    "\"\"\"\n",
    "\n",
    "interactions = dict()\n",
    "for match in wp111g.query(int_q):\n",
    "    result_dict = {key: str(val) for key, val in match.asdict().items()}\n",
    "    result_dict[\"types\"] = {int_type.split(\"#\")[1] for int_type in result_dict[\"types\"].split(\",\")}\n",
    "    result_dict[\"participants\"] = set(result_dict[\"participants\"].split(\",\"))\n",
    "    \n",
    "#     # rdf type comes after #, don't need \"Interaction\" since it's always a duplicate\n",
    "#     if result_dict[\"type\"] == \"Interaction\":\n",
    "#         continue\n",
    "    \n",
    "    # Binding always with ComplexBinding so skip Binding\n",
    "    \n",
    "    ttl_id = result_dict.pop(\"ttl_id\")\n",
    "    interactions[ttl_id] = result_dict\n",
    "for x in interactions.keys():\n",
    "    print(x.split(\"/\")[-1])"
   ]
  },
  {
   "cell_type": "code",
   "execution_count": null,
   "id": "c3ae5836",
   "metadata": {},
   "outputs": [],
   "source": []
  }
 ],
 "metadata": {
  "kernelspec": {
   "display_name": "Python 3 (ipykernel)",
   "language": "python",
   "name": "python3"
  },
  "language_info": {
   "codemirror_mode": {
    "name": "ipython",
    "version": 3
   },
   "file_extension": ".py",
   "mimetype": "text/x-python",
   "name": "python",
   "nbconvert_exporter": "python",
   "pygments_lexer": "ipython3",
   "version": "3.10.0"
  }
 },
 "nbformat": 4,
 "nbformat_minor": 5
}
