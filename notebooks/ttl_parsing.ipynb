{
 "cells": [
  {
   "cell_type": "markdown",
   "id": "77400b8b",
   "metadata": {},
   "source": [
    "# Notebook Aim\n",
    "To investigate .ttl files and parse them"
   ]
  },
  {
   "cell_type": "code",
   "execution_count": 1,
   "id": "7c4bd658",
   "metadata": {
    "ExecuteTime": {
     "end_time": "2022-02-02T10:07:58.407312Z",
     "start_time": "2022-02-02T10:07:58.340693Z"
    }
   },
   "outputs": [],
   "source": [
    "# https://github.com/RDFLib/rdflib\n",
    "#!pip install rdflib\n",
    "from rdflib import Graph"
   ]
  },
  {
   "cell_type": "markdown",
   "id": "0e6a08ea",
   "metadata": {
    "ExecuteTime": {
     "end_time": "2022-01-26T10:13:51.922295Z",
     "start_time": "2022-01-26T10:13:51.915286Z"
    }
   },
   "source": [
    "## Ontology File\n",
    "The RDf data dump comes with an ontology file that can use to know which RDF types to expect in the `.ttl` files."
   ]
  },
  {
   "cell_type": "code",
   "execution_count": 2,
   "id": "1e4a87d1",
   "metadata": {
    "ExecuteTime": {
     "end_time": "2022-02-02T10:07:58.439311Z",
     "start_time": "2022-02-02T10:07:58.408314Z"
    }
   },
   "outputs": [],
   "source": [
    "from rdflib.extras.external_graph_libs import rdflib_to_networkx_multidigraph\n",
    "# import networkx as nx\n",
    "# import matplotlib.pyplot as plt\n",
    "\n",
    "url = 'https://www.w3.org/TeamSubmission/turtle/tests/test-30.ttl'\n",
    "\n",
    "onto_graph = Graph()\n",
    "result = onto_graph.parse(\"./wpOntology.ttl\", format='turtle')\n",
    "\n",
    "# G = rdflib_to_networkx_multidigraph(result)\n",
    "\n",
    "# # Plot Networkx instance of RDF Graph\n",
    "# pos = nx.spring_layout(G, scale=2)\n",
    "# plt.figure(figsize=(50,50))\n",
    "# edge_labels = nx.get_edge_attributes(G, 'r')\n",
    "# nx.draw_networkx_edge_labels(G, pos, edge_labels=edge_labels)\n",
    "# nx.draw(G, with_labels=True)\n",
    "\n",
    "# #if not in interactive mode for \n",
    "\n",
    "# plt.savefig(\"ontology_graph.png\")"
   ]
  },
  {
   "cell_type": "markdown",
   "id": "5ac4344d",
   "metadata": {},
   "source": [
    "## Test WP File - WP111"
   ]
  },
  {
   "cell_type": "code",
   "execution_count": 3,
   "id": "655317bc",
   "metadata": {
    "ExecuteTime": {
     "end_time": "2022-02-02T10:07:58.500312Z",
     "start_time": "2022-02-02T10:07:58.440312Z"
    }
   },
   "outputs": [],
   "source": [
    "g = Graph()\n",
    "\n",
    "# Parse an RDF file\n",
    "wp111g = g.parse(\"./WP111.ttl\")"
   ]
  },
  {
   "cell_type": "code",
   "execution_count": 4,
   "id": "74b7dcfe",
   "metadata": {
    "ExecuteTime": {
     "end_time": "2022-02-02T10:07:58.515311Z",
     "start_time": "2022-02-02T10:07:58.501313Z"
    }
   },
   "outputs": [
    {
     "data": {
      "text/plain": [
       "2353"
      ]
     },
     "execution_count": 4,
     "metadata": {},
     "output_type": "execute_result"
    }
   ],
   "source": [
    "len(wp111g)  # Number of subj/pred/obj"
   ]
  },
  {
   "cell_type": "code",
   "execution_count": 5,
   "id": "f1507d2b",
   "metadata": {
    "ExecuteTime": {
     "end_time": "2022-02-02T10:07:58.656329Z",
     "start_time": "2022-02-02T10:07:58.516313Z"
    }
   },
   "outputs": [
    {
     "name": "stdout",
     "output_type": "stream",
     "text": [
      "NDUFS3\n"
     ]
    }
   ],
   "source": [
    "# Getting labels of GeneProducts\n",
    "q = \"\"\"\n",
    "    PREFIX dc: <http://purl.org/dc/elements/1.1/>\n",
    "    PREFIX rdf: <http://www.w3.org/1999/02/22-rdf-syntax-ns#>\n",
    "    PREFIX rdfs: <http://www.w3.org/2000/01/rdf-schema#>\n",
    "\n",
    "    SELECT ?label\n",
    "    WHERE {\n",
    "        ?p rdf:type wp:GeneProduct .\n",
    "\n",
    "        ?p rdfs:label ?label .\n",
    "    }\n",
    "\"\"\"\n",
    "for r in wp111g.query(q):\n",
    "    print(r[\"label\"])\n",
    "    break"
   ]
  },
  {
   "cell_type": "markdown",
   "id": "0e255567",
   "metadata": {},
   "source": [
    "## Parse PubRefs"
   ]
  },
  {
   "cell_type": "code",
   "execution_count": 6,
   "id": "a2c6229c",
   "metadata": {
    "ExecuteTime": {
     "end_time": "2022-02-02T10:07:58.672331Z",
     "start_time": "2022-02-02T10:07:58.657332Z"
    }
   },
   "outputs": [
    {
     "name": "stdout",
     "output_type": "stream",
     "text": [
      "{'id': 'https://identifiers.org/pubmed/23746447', 'data_source': 'PubMed', 'data_source_id': '23746447', 'link': 'http://www.ncbi.nlm.nih.gov/pubmed/23746447'}\n",
      "{'id': 'https://identifiers.org/pubmed/22902835', 'data_source': 'PubMed', 'data_source_id': '22902835', 'link': 'http://www.ncbi.nlm.nih.gov/pubmed/22902835'}\n",
      "{'id': 'https://identifiers.org/pubmed/30030361', 'data_source': 'PubMed', 'data_source_id': '30030361', 'link': 'http://www.ncbi.nlm.nih.gov/pubmed/30030361'}\n"
     ]
    }
   ],
   "source": [
    "pubref_query = \"\"\"\n",
    "SELECT ?id ?data_source ?data_source_id ?link\n",
    "    WHERE {\n",
    "        ?id rdf:type wp:PublicationReference ;\n",
    "            rdf:type ?type .\n",
    "            ?id foaf:page ?link .\n",
    "            ?id dc:source ?data_source .\n",
    "            ?id dcterms:identifier ?data_source_id .\n",
    "    }\n",
    "\"\"\"\n",
    "\n",
    "for match in wp111g.query(pubref_query):\n",
    "    result_dict = {key: str(val) for key, val in match.asdict().items()}\n",
    "    print(result_dict)"
   ]
  },
  {
   "cell_type": "markdown",
   "id": "a56a195e",
   "metadata": {},
   "source": [
    "### Parse Pathways"
   ]
  },
  {
   "cell_type": "code",
   "execution_count": 13,
   "id": "e16c1614",
   "metadata": {
    "ExecuteTime": {
     "end_time": "2022-02-02T11:56:04.400516Z",
     "start_time": "2022-02-02T11:56:04.376973Z"
    }
   },
   "outputs": [
    {
     "name": "stdout",
     "output_type": "stream",
     "text": [
      "{'id': 'https://identifiers.org/wikipathways/WP111_r117097', 'data_source': 'WikiPathways', 'data_source_id': 'WP111', 'description': 'An electron transport chain(ETC) couples a chemical reaction between an electron donor (such as NADH) and an electron acceptor (such as O2) to the transfer of H+ ions across a membrane, through a set of mediating biochemical reactions. These H+ ions are used to produce adenosine triphosphate (ATP), the main energy intermediate in living organisms, as they move back across the membrane. \\nIn mitochondria, it is the conversion of oxygen to water, NADH to NAD+ and succinate to fumarate that drives the transfer of H+ ions.\\nSource: Wikipedia ([[wikipedia:Electron_transport_chain]])\\n\\nProteins on this pathway have targeted assays available via the [https://assays.cancer.gov/available_assays?wp_id=WP111 CPTAC Assay Portal]', 'organism': 'Homo sapiens'}\n",
      "{'id': 'https://identifiers.org/wikipathways/WP4324', 'data_source': 'WikiPathways', 'data_source_id': 'WP4324'}\n",
      "{'id': 'https://identifiers.org/wikipathways/WP78', 'data_source': 'WikiPathways', 'data_source_id': 'WP78'}\n"
     ]
    }
   ],
   "source": [
    "pathway_query = \"\"\"\n",
    "        SELECT ?id ?data_source ?data_source_id ?description ?organism\n",
    "            WHERE {\n",
    "                ?id rdf:type wp:Pathway .\n",
    "                ?id rdf:type ?type .\n",
    "                ?id dc:source ?data_source .\n",
    "                ?id dcterms:identifier ?data_source_id .\n",
    "                OPTIONAL {\n",
    "                    ?id dcterms:description ?description .\n",
    "                    ?id wp:organismName ?organism . \n",
    "                }\n",
    "            FILTER (STR(?type) = \"http://vocabularies.wikipathways.org/wp#Pathway\") .\n",
    "            }\n",
    "        \"\"\"\n",
    "\n",
    "for match in wp111g.query(pathway_query):\n",
    "    result_dict = {key: str(val) for key, val in match.asdict().items()}\n",
    "    print(result_dict)"
   ]
  },
  {
   "cell_type": "markdown",
   "id": "608a7080",
   "metadata": {},
   "source": [
    "### Parse Nodes"
   ]
  },
  {
   "cell_type": "code",
   "execution_count": null,
   "id": "f8edbbb0",
   "metadata": {
    "ExecuteTime": {
     "end_time": "2022-02-02T10:07:59.696751Z",
     "start_time": "2022-02-02T10:07:59.696751Z"
    }
   },
   "outputs": [],
   "source": [
    "def parse_nodes(wikipathway, query: str) -> dict:\n",
    "    \"\"\"Parse nodes in the wikipathway graph.\"\"\"\n",
    "    nodes = dict()\n",
    "    for match in wikipathway.query(query):\n",
    "        result_dict = {key: str(val) for key, val in match.asdict().items()}\n",
    "        node_types = {int_type.split(\"#\")[1] for int_type in result_dict.pop(\"types\").split(\",\")}\n",
    "\n",
    "        # don't need \"DataNode\" since it's a duplicate\n",
    "        node_types.remove('DataNode')\n",
    "\n",
    "        # Defensive code\n",
    "        if len(node_types) != 1:  # Should only be one node type\n",
    "            raise ValueError(f\"Too many node types: {node_types}\")\n",
    "\n",
    "        # Parse participants of wp:Complex nodes\n",
    "        if \"Complex\" in node_types:\n",
    "            result_dict[\"participants\"] = set(result_dict[\"participants\"].split(\",\"))\n",
    "\n",
    "        result_dict[\"type\"] = list(node_types)[0]\n",
    "\n",
    "        wp_id = result_dict.pop(\"wp_id\")\n",
    "        nodes[wp_id] = result_dict\n",
    "\n",
    "    return nodes\n",
    "\n",
    "noncomplex_node_query = \"\"\"\n",
    "    SELECT ?wp_id (GROUP_CONCAT(?type;SEPARATOR=\",\") AS ?types) ?label ?id_source ?identifier\n",
    "    WHERE {\n",
    "        ?wp_id rdf:type wp:DataNode ;\n",
    "            rdf:type ?type .\n",
    "            ?wp_id rdfs:label ?label .\n",
    "            ?wp_id dc:source ?id_source .\n",
    "            ?wp_id dcterms:identifier ?identifier .\n",
    "    }\n",
    "    GROUP BY ?wp_id\n",
    "\"\"\"\n",
    "\n",
    "complex_node_query = \"\"\"\n",
    "    SELECT ?wp_id (GROUP_CONCAT(?ps ;SEPARATOR=\",\") AS ?participants)\n",
    "    WHERE {\n",
    "        ?wp_id rdf:type wp:Complex ;\n",
    "            rdf:type ?type ;\n",
    "            wp:participants ?ps .\n",
    "    FILTER (STR(?type) = \"http://vocabularies.wikipathways.org/wp#Complex\") .\n",
    "    }\n",
    "    GROUP BY ?wp_id\n",
    "\"\"\"\n",
    "\n",
    "noncomplex_nodes = parse_nodes(wikipathway=wp111g, query=noncomplex_node_query)\n",
    "complex_nodes = parse_nodes(wikipathway=wp111g, query=complex_node_query)\n",
    "nodes = {**noncomplex_nodes, **complex_nodes}"
   ]
  },
  {
   "cell_type": "code",
   "execution_count": null,
   "id": "51b2488e",
   "metadata": {
    "ExecuteTime": {
     "end_time": "2022-02-02T10:07:59.697748Z",
     "start_time": "2022-02-02T10:07:59.697748Z"
    }
   },
   "outputs": [],
   "source": [
    "for key, value in nodes.items():\n",
    "    print(key)\n",
    "    print(value)\n",
    "    break"
   ]
  },
  {
   "cell_type": "markdown",
   "id": "99797f0c",
   "metadata": {},
   "source": [
    "### Parse Interactions"
   ]
  },
  {
   "cell_type": "code",
   "execution_count": null,
   "id": "d31c7bdb",
   "metadata": {
    "ExecuteTime": {
     "end_time": "2022-02-02T10:07:59.698750Z",
     "start_time": "2022-02-02T10:07:59.698750Z"
    }
   },
   "outputs": [],
   "source": [
    "# Get and parse edges\n",
    "# \";\" can be used when same subj/pred/obj used - https://www.stardog.com/tutorials/sparql#ordering-results\n",
    "int_q = \"\"\"\n",
    "    SELECT ?wp_id (GROUP_CONCAT(?type;SEPARATOR=\",\") AS ?types) ?source ?target ?identifier (GROUP_CONCAT(?ps ;SEPARATOR=\",\") AS ?participants)\n",
    "    WHERE {\n",
    "        ?wp_id rdf:type wp:Interaction ;\n",
    "            wp:participants ?ps ;\n",
    "            rdf:type ?type .\n",
    "        OPTIONAL {\n",
    "            ?wp_id wp:source ?source .\n",
    "            ?wp_id wp:target ?target .\n",
    "        }\n",
    "    }\n",
    "    GROUP BY ?wp_id\n",
    "\"\"\"\n",
    "\n",
    "interactions = dict()\n",
    "for match in wp111g.query(int_q):\n",
    "    result_dict = {key: str(val) for key, val in match.asdict().items()}\n",
    "    interaction_types = {int_type.split(\"#\")[1] for int_type in result_dict[\"types\"].split(\",\")}\n",
    "    result_dict[\"participants\"] = set(result_dict[\"participants\"].split(\",\"))\n",
    "    \n",
    "    # don't need \"Interaction\"\n",
    "    interaction_types.remove(\"Interaction\")\n",
    "    \n",
    "    # Binding always with ComplexBinding so keep only ComplexBinding\n",
    "    if \"ComplexBinding\" in interaction_types:\n",
    "        result_dict[\"types\"] = {\"ComplexBinding\"}\n",
    "        \n",
    "    else:result_dict[\"types\"]  = interaction_types\n",
    "    \n",
    "    wp_id = result_dict.pop(\"wp_id\")\n",
    "    interactions[wp_id] = result_dict\n",
    "\n",
    "result_dict"
   ]
  },
  {
   "cell_type": "markdown",
   "id": "4cfd58bf",
   "metadata": {
    "ExecuteTime": {
     "end_time": "2022-02-01T07:00:13.280105Z",
     "start_time": "2022-02-01T07:00:13.275106Z"
    }
   },
   "source": [
    "## Check Nodes in Parsed Interactions"
   ]
  },
  {
   "cell_type": "code",
   "execution_count": null,
   "id": "5492cca5",
   "metadata": {
    "ExecuteTime": {
     "end_time": "2022-02-02T10:07:59.699747Z",
     "start_time": "2022-02-02T10:07:59.699747Z"
    }
   },
   "outputs": [],
   "source": [
    "for iid, metadata in interactions.items():\n",
    "    for node_id in metadata[\"participants\"]:\n",
    "        if node_id not in nodes:\n",
    "            print(node_id)"
   ]
  },
  {
   "cell_type": "code",
   "execution_count": null,
   "id": "c153048d",
   "metadata": {},
   "outputs": [],
   "source": []
  }
 ],
 "metadata": {
  "kernelspec": {
   "display_name": "Python 3 (ipykernel)",
   "language": "python",
   "name": "python3"
  },
  "language_info": {
   "codemirror_mode": {
    "name": "ipython",
    "version": 3
   },
   "file_extension": ".py",
   "mimetype": "text/x-python",
   "name": "python",
   "nbconvert_exporter": "python",
   "pygments_lexer": "ipython3",
   "version": "3.10.0"
  }
 },
 "nbformat": 4,
 "nbformat_minor": 5
}
