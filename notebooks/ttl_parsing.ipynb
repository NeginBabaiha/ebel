{
 "cells": [
  {
   "cell_type": "markdown",
   "id": "77400b8b",
   "metadata": {},
   "source": [
    "# Notebook Aim\n",
    "To investigate .ttl files and parse them"
   ]
  },
  {
   "cell_type": "code",
   "execution_count": 9,
   "id": "7c4bd658",
   "metadata": {
    "ExecuteTime": {
     "end_time": "2022-02-10T13:39:00.190385Z",
     "start_time": "2022-02-10T13:39:00.179353Z"
    }
   },
   "outputs": [],
   "source": [
    "# https://github.com/RDFLib/rdflib\n",
    "#!pip install rdflib\n",
    "from rdflib import Graph"
   ]
  },
  {
   "cell_type": "markdown",
   "id": "0e6a08ea",
   "metadata": {
    "ExecuteTime": {
     "end_time": "2022-01-26T10:13:51.922295Z",
     "start_time": "2022-01-26T10:13:51.915286Z"
    }
   },
   "source": [
    "## Ontology File\n",
    "The RDf data dump comes with an ontology file that can use to know which RDF types to expect in the `.ttl` files."
   ]
  },
  {
   "cell_type": "code",
   "execution_count": 10,
   "id": "1e4a87d1",
   "metadata": {
    "ExecuteTime": {
     "end_time": "2022-02-10T13:39:01.884058Z",
     "start_time": "2022-02-10T13:39:01.865985Z"
    }
   },
   "outputs": [],
   "source": [
    "from rdflib.extras.external_graph_libs import rdflib_to_networkx_multidigraph\n",
    "# import networkx as nx\n",
    "# import matplotlib.pyplot as plt\n",
    "\n",
    "url = 'https://www.w3.org/TeamSubmission/turtle/tests/test-30.ttl'\n",
    "\n",
    "onto_graph = Graph()\n",
    "result = onto_graph.parse(\"./wpOntology.ttl\", format='turtle')\n",
    "\n",
    "# G = rdflib_to_networkx_multidigraph(result)\n",
    "\n",
    "# # Plot Networkx instance of RDF Graph\n",
    "# pos = nx.spring_layout(G, scale=2)\n",
    "# plt.figure(figsize=(50,50))\n",
    "# edge_labels = nx.get_edge_attributes(G, 'r')\n",
    "# nx.draw_networkx_edge_labels(G, pos, edge_labels=edge_labels)\n",
    "# nx.draw(G, with_labels=True)\n",
    "\n",
    "# #if not in interactive mode for \n",
    "\n",
    "# plt.savefig(\"ontology_graph.png\")"
   ]
  },
  {
   "cell_type": "markdown",
   "id": "5ac4344d",
   "metadata": {},
   "source": [
    "## Test WP File - WP111"
   ]
  },
  {
   "cell_type": "code",
   "execution_count": 11,
   "id": "655317bc",
   "metadata": {
    "ExecuteTime": {
     "end_time": "2022-02-10T13:39:02.817047Z",
     "start_time": "2022-02-10T13:39:02.746845Z"
    }
   },
   "outputs": [],
   "source": [
    "g = Graph()\n",
    "\n",
    "# Parse an RDF file\n",
    "wp111g = g.parse(\"./WP111.ttl\")"
   ]
  },
  {
   "cell_type": "code",
   "execution_count": 12,
   "id": "74b7dcfe",
   "metadata": {
    "ExecuteTime": {
     "end_time": "2022-02-10T13:39:03.221844Z",
     "start_time": "2022-02-10T13:39:03.218844Z"
    }
   },
   "outputs": [
    {
     "data": {
      "text/plain": [
       "2353"
      ]
     },
     "execution_count": 12,
     "metadata": {},
     "output_type": "execute_result"
    },
    {
     "data": {
      "text/plain": [
       "2353"
      ]
     },
     "execution_count": 12,
     "metadata": {},
     "output_type": "execute_result"
    }
   ],
   "source": [
    "len(wp111g)  # Number of subj/pred/obj"
   ]
  },
  {
   "cell_type": "code",
   "execution_count": 13,
   "id": "f1507d2b",
   "metadata": {
    "ExecuteTime": {
     "end_time": "2022-02-10T13:39:03.426061Z",
     "start_time": "2022-02-10T13:39:03.418065Z"
    }
   },
   "outputs": [
    {
     "name": "stdout",
     "output_type": "stream",
     "text": [
      "NDUFS3\n",
      "NDUFS3\n"
     ]
    }
   ],
   "source": [
    "# Getting labels of GeneProducts\n",
    "q = \"\"\"\n",
    "    PREFIX dc: <http://purl.org/dc/elements/1.1/>\n",
    "    PREFIX rdf: <http://www.w3.org/1999/02/22-rdf-syntax-ns#>\n",
    "    PREFIX rdfs: <http://www.w3.org/2000/01/rdf-schema#>\n",
    "\n",
    "    SELECT ?label\n",
    "    WHERE {\n",
    "        ?p rdf:type wp:GeneProduct .\n",
    "\n",
    "        ?p rdfs:label ?label .\n",
    "    }\n",
    "\"\"\"\n",
    "for r in wp111g.query(q):\n",
    "    print(r[\"label\"])\n",
    "    break"
   ]
  },
  {
   "cell_type": "markdown",
   "id": "0e255567",
   "metadata": {},
   "source": [
    "## Parse PubRefs"
   ]
  },
  {
   "cell_type": "code",
   "execution_count": 14,
   "id": "a2c6229c",
   "metadata": {
    "ExecuteTime": {
     "end_time": "2022-02-10T13:39:04.267858Z",
     "start_time": "2022-02-10T13:39:04.250900Z"
    }
   },
   "outputs": [
    {
     "name": "stdout",
     "output_type": "stream",
     "text": [
      "{'id': 'https://identifiers.org/pubmed/23746447', 'data_source': 'PubMed', 'data_source_id': '23746447', 'link': 'http://www.ncbi.nlm.nih.gov/pubmed/23746447'}\n",
      "{'id': 'https://identifiers.org/pubmed/22902835', 'data_source': 'PubMed', 'data_source_id': '22902835', 'link': 'http://www.ncbi.nlm.nih.gov/pubmed/22902835'}\n",
      "{'id': 'https://identifiers.org/pubmed/30030361', 'data_source': 'PubMed', 'data_source_id': '30030361', 'link': 'http://www.ncbi.nlm.nih.gov/pubmed/30030361'}\n",
      "{'id': 'https://identifiers.org/pubmed/23746447', 'data_source': 'PubMed', 'data_source_id': '23746447', 'link': 'http://www.ncbi.nlm.nih.gov/pubmed/23746447'}\n",
      "{'id': 'https://identifiers.org/pubmed/22902835', 'data_source': 'PubMed', 'data_source_id': '22902835', 'link': 'http://www.ncbi.nlm.nih.gov/pubmed/22902835'}\n",
      "{'id': 'https://identifiers.org/pubmed/30030361', 'data_source': 'PubMed', 'data_source_id': '30030361', 'link': 'http://www.ncbi.nlm.nih.gov/pubmed/30030361'}\n"
     ]
    }
   ],
   "source": [
    "pubref_query = \"\"\"\n",
    "SELECT ?id ?data_source ?data_source_id ?link\n",
    "    WHERE {\n",
    "        ?id rdf:type wp:PublicationReference ;\n",
    "            rdf:type ?type .\n",
    "            ?id foaf:page ?link .\n",
    "            ?id dc:source ?data_source .\n",
    "            ?id dcterms:identifier ?data_source_id .\n",
    "    }\n",
    "\"\"\"\n",
    "\n",
    "for match in wp111g.query(pubref_query):\n",
    "    result_dict = {key: str(val) for key, val in match.asdict().items()}\n",
    "    print(result_dict)"
   ]
  },
  {
   "cell_type": "markdown",
   "id": "a56a195e",
   "metadata": {},
   "source": [
    "### Parse Pathways"
   ]
  },
  {
   "cell_type": "code",
   "execution_count": 15,
   "id": "e16c1614",
   "metadata": {
    "ExecuteTime": {
     "end_time": "2022-02-10T13:39:05.265925Z",
     "start_time": "2022-02-10T13:39:05.249920Z"
    }
   },
   "outputs": [
    {
     "name": "stdout",
     "output_type": "stream",
     "text": [
      "{'id': 'https://identifiers.org/wikipathways/WP111_r117097', 'data_source': 'WikiPathways', 'data_source_id': 'WP111', 'description': 'An electron transport chain(ETC) couples a chemical reaction between an electron donor (such as NADH) and an electron acceptor (such as O2) to the transfer of H+ ions across a membrane, through a set of mediating biochemical reactions. These H+ ions are used to produce adenosine triphosphate (ATP), the main energy intermediate in living organisms, as they move back across the membrane. \\nIn mitochondria, it is the conversion of oxygen to water, NADH to NAD+ and succinate to fumarate that drives the transfer of H+ ions.\\nSource: Wikipedia ([[wikipedia:Electron_transport_chain]])\\n\\nProteins on this pathway have targeted assays available via the [https://assays.cancer.gov/available_assays?wp_id=WP111 CPTAC Assay Portal]', 'organism': 'Homo sapiens'}\n",
      "{'id': 'https://identifiers.org/wikipathways/WP4324', 'data_source': 'WikiPathways', 'data_source_id': 'WP4324'}\n",
      "{'id': 'https://identifiers.org/wikipathways/WP78', 'data_source': 'WikiPathways', 'data_source_id': 'WP78'}\n",
      "{'id': 'https://identifiers.org/wikipathways/WP111_r117097', 'data_source': 'WikiPathways', 'data_source_id': 'WP111', 'description': 'An electron transport chain(ETC) couples a chemical reaction between an electron donor (such as NADH) and an electron acceptor (such as O2) to the transfer of H+ ions across a membrane, through a set of mediating biochemical reactions. These H+ ions are used to produce adenosine triphosphate (ATP), the main energy intermediate in living organisms, as they move back across the membrane. \\nIn mitochondria, it is the conversion of oxygen to water, NADH to NAD+ and succinate to fumarate that drives the transfer of H+ ions.\\nSource: Wikipedia ([[wikipedia:Electron_transport_chain]])\\n\\nProteins on this pathway have targeted assays available via the [https://assays.cancer.gov/available_assays?wp_id=WP111 CPTAC Assay Portal]', 'organism': 'Homo sapiens'}\n",
      "{'id': 'https://identifiers.org/wikipathways/WP4324', 'data_source': 'WikiPathways', 'data_source_id': 'WP4324'}\n",
      "{'id': 'https://identifiers.org/wikipathways/WP78', 'data_source': 'WikiPathways', 'data_source_id': 'WP78'}\n"
     ]
    }
   ],
   "source": [
    "pathway_query = \"\"\"\n",
    "        SELECT ?id ?data_source ?data_source_id ?description ?organism\n",
    "            WHERE {\n",
    "                ?id rdf:type wp:Pathway .\n",
    "                ?id rdf:type ?type .\n",
    "                ?id dc:source ?data_source .\n",
    "                ?id dcterms:identifier ?data_source_id .\n",
    "                OPTIONAL {\n",
    "                    ?id dcterms:description ?description .\n",
    "                    ?id wp:organismName ?organism . \n",
    "                }\n",
    "            FILTER (STR(?type) = \"http://vocabularies.wikipathways.org/wp#Pathway\") .\n",
    "            }\n",
    "        \"\"\"\n",
    "\n",
    "for match in wp111g.query(pathway_query):\n",
    "    result_dict = {key: str(val) for key, val in match.asdict().items()}\n",
    "    print(result_dict)"
   ]
  },
  {
   "cell_type": "markdown",
   "id": "608a7080",
   "metadata": {},
   "source": [
    "### Parse Nodes"
   ]
  },
  {
   "cell_type": "code",
   "execution_count": 38,
   "id": "f8edbbb0",
   "metadata": {
    "ExecuteTime": {
     "end_time": "2022-02-10T13:53:49.659466Z",
     "start_time": "2022-02-10T13:53:49.612599Z"
    }
   },
   "outputs": [
    {
     "ename": "TypeError",
     "evalue": "'str' object cannot be interpreted as an integer",
     "output_type": "error",
     "traceback": [
      "\u001b[1;31m---------------------------------------------------------------------------\u001b[0m",
      "\u001b[1;31mTypeError\u001b[0m                                 Traceback (most recent call last)",
      "Input \u001b[1;32mIn [38]\u001b[0m, in \u001b[0;36m<module>\u001b[1;34m\u001b[0m\n\u001b[0;32m     43\u001b[0m complex_node_query \u001b[38;5;241m=\u001b[39m \u001b[38;5;124m\"\"\"\u001b[39m\n\u001b[0;32m     44\u001b[0m \u001b[38;5;124m    SELECT ?id ?types (GROUP_CONCAT(?ps ;SEPARATOR=\u001b[39m\u001b[38;5;124m\"\u001b[39m\u001b[38;5;124m,\u001b[39m\u001b[38;5;124m\"\u001b[39m\u001b[38;5;124m) AS ?participants)\u001b[39m\n\u001b[0;32m     45\u001b[0m \u001b[38;5;124m    WHERE \u001b[39m\u001b[38;5;124m{\u001b[39m\n\u001b[1;32m   (...)\u001b[0m\n\u001b[0;32m     51\u001b[0m \u001b[38;5;124m    GROUP BY ?id\u001b[39m\n\u001b[0;32m     52\u001b[0m \u001b[38;5;124m\"\"\"\u001b[39m\n\u001b[0;32m     54\u001b[0m \u001b[38;5;66;03m# noncomplex_nodes = parse_nodes(wikipathway=wp111g, query=noncomplex_node_query)\u001b[39;00m\n\u001b[1;32m---> 55\u001b[0m complex_nodes \u001b[38;5;241m=\u001b[39m \u001b[43mparse_nodes\u001b[49m\u001b[43m(\u001b[49m\u001b[43mwikipathway\u001b[49m\u001b[38;5;241;43m=\u001b[39;49m\u001b[43mwp111g\u001b[49m\u001b[43m,\u001b[49m\u001b[43m \u001b[49m\u001b[43mquery\u001b[49m\u001b[38;5;241;43m=\u001b[39;49m\u001b[43mcomplex_node_query\u001b[49m\u001b[43m)\u001b[49m\n\u001b[0;32m     56\u001b[0m \u001b[38;5;28mprint\u001b[39m(\u001b[38;5;28mlen\u001b[39m(complex_nodes))\n\u001b[0;32m     57\u001b[0m nodes \u001b[38;5;241m=\u001b[39m {\u001b[38;5;241m*\u001b[39m\u001b[38;5;241m*\u001b[39mnoncomplex_nodes, \u001b[38;5;241m*\u001b[39m\u001b[38;5;241m*\u001b[39mcomplex_nodes}\n",
      "Input \u001b[1;32mIn [38]\u001b[0m, in \u001b[0;36mparse_nodes\u001b[1;34m(wikipathway, query)\u001b[0m\n\u001b[0;32m     11\u001b[0m     node_types\u001b[38;5;241m.\u001b[39madd(\u001b[38;5;124m\"\u001b[39m\u001b[38;5;124mAOP-Wiki\u001b[39m\u001b[38;5;124m\"\u001b[39m)\n\u001b[0;32m     13\u001b[0m \u001b[38;5;66;03m# don't need \"DataNode\" since it's a duplicate\u001b[39;00m\n\u001b[1;32m---> 14\u001b[0m \u001b[43mnode_types\u001b[49m\u001b[38;5;241;43m.\u001b[39;49m\u001b[43mpop\u001b[49m\u001b[43m(\u001b[49m\u001b[38;5;124;43m'\u001b[39;49m\u001b[38;5;124;43mDataNode\u001b[39;49m\u001b[38;5;124;43m'\u001b[39;49m\u001b[43m)\u001b[49m\n\u001b[0;32m     16\u001b[0m \u001b[38;5;66;03m# Defensive code\u001b[39;00m\n\u001b[0;32m     17\u001b[0m \u001b[38;5;28;01mif\u001b[39;00m \u001b[38;5;28mlen\u001b[39m(node_types) \u001b[38;5;241m!=\u001b[39m \u001b[38;5;241m1\u001b[39m:  \u001b[38;5;66;03m# Should only be one node type\u001b[39;00m\n",
      "\u001b[1;31mTypeError\u001b[0m: 'str' object cannot be interpreted as an integer"
     ]
    },
    {
     "ename": "TypeError",
     "evalue": "'str' object cannot be interpreted as an integer",
     "output_type": "error",
     "traceback": [
      "\u001b[1;31m---------------------------------------------------------------------------\u001b[0m",
      "\u001b[1;31mTypeError\u001b[0m                                 Traceback (most recent call last)",
      "Input \u001b[1;32mIn [38]\u001b[0m, in \u001b[0;36m<module>\u001b[1;34m\u001b[0m\n\u001b[0;32m     43\u001b[0m complex_node_query \u001b[38;5;241m=\u001b[39m \u001b[38;5;124m\"\"\"\u001b[39m\n\u001b[0;32m     44\u001b[0m \u001b[38;5;124m    SELECT ?id ?types (GROUP_CONCAT(?ps ;SEPARATOR=\u001b[39m\u001b[38;5;124m\"\u001b[39m\u001b[38;5;124m,\u001b[39m\u001b[38;5;124m\"\u001b[39m\u001b[38;5;124m) AS ?participants)\u001b[39m\n\u001b[0;32m     45\u001b[0m \u001b[38;5;124m    WHERE \u001b[39m\u001b[38;5;124m{\u001b[39m\n\u001b[1;32m   (...)\u001b[0m\n\u001b[0;32m     51\u001b[0m \u001b[38;5;124m    GROUP BY ?id\u001b[39m\n\u001b[0;32m     52\u001b[0m \u001b[38;5;124m\"\"\"\u001b[39m\n\u001b[0;32m     54\u001b[0m \u001b[38;5;66;03m# noncomplex_nodes = parse_nodes(wikipathway=wp111g, query=noncomplex_node_query)\u001b[39;00m\n\u001b[1;32m---> 55\u001b[0m complex_nodes \u001b[38;5;241m=\u001b[39m \u001b[43mparse_nodes\u001b[49m\u001b[43m(\u001b[49m\u001b[43mwikipathway\u001b[49m\u001b[38;5;241;43m=\u001b[39;49m\u001b[43mwp111g\u001b[49m\u001b[43m,\u001b[49m\u001b[43m \u001b[49m\u001b[43mquery\u001b[49m\u001b[38;5;241;43m=\u001b[39;49m\u001b[43mcomplex_node_query\u001b[49m\u001b[43m)\u001b[49m\n\u001b[0;32m     56\u001b[0m \u001b[38;5;28mprint\u001b[39m(\u001b[38;5;28mlen\u001b[39m(complex_nodes))\n\u001b[0;32m     57\u001b[0m nodes \u001b[38;5;241m=\u001b[39m {\u001b[38;5;241m*\u001b[39m\u001b[38;5;241m*\u001b[39mnoncomplex_nodes, \u001b[38;5;241m*\u001b[39m\u001b[38;5;241m*\u001b[39mcomplex_nodes}\n",
      "Input \u001b[1;32mIn [38]\u001b[0m, in \u001b[0;36mparse_nodes\u001b[1;34m(wikipathway, query)\u001b[0m\n\u001b[0;32m     11\u001b[0m     node_types\u001b[38;5;241m.\u001b[39madd(\u001b[38;5;124m\"\u001b[39m\u001b[38;5;124mAOP-Wiki\u001b[39m\u001b[38;5;124m\"\u001b[39m)\n\u001b[0;32m     13\u001b[0m \u001b[38;5;66;03m# don't need \"DataNode\" since it's a duplicate\u001b[39;00m\n\u001b[1;32m---> 14\u001b[0m \u001b[43mnode_types\u001b[49m\u001b[38;5;241;43m.\u001b[39;49m\u001b[43mpop\u001b[49m\u001b[43m(\u001b[49m\u001b[38;5;124;43m'\u001b[39;49m\u001b[38;5;124;43mDataNode\u001b[39;49m\u001b[38;5;124;43m'\u001b[39;49m\u001b[43m)\u001b[49m\n\u001b[0;32m     16\u001b[0m \u001b[38;5;66;03m# Defensive code\u001b[39;00m\n\u001b[0;32m     17\u001b[0m \u001b[38;5;28;01mif\u001b[39;00m \u001b[38;5;28mlen\u001b[39m(node_types) \u001b[38;5;241m!=\u001b[39m \u001b[38;5;241m1\u001b[39m:  \u001b[38;5;66;03m# Should only be one node type\u001b[39;00m\n",
      "\u001b[1;31mTypeError\u001b[0m: 'str' object cannot be interpreted as an integer"
     ]
    }
   ],
   "source": [
    "def parse_nodes(wikipathway, query: str) -> dict:\n",
    "    \"\"\"Parse nodes in the wikipathway graph.\"\"\"\n",
    "    nodes = dict()\n",
    "    query_results = wikipathway.query(query)\n",
    "    for match in query_results:\n",
    "        result_dict = {key: str(val) for key, val in match.asdict().items()}\n",
    "        node_types = list({int_type.split(\"#\")[1] for int_type in result_dict.pop(\"types\").split(\",\")})\n",
    "\n",
    "        # AOP nodes only have \"DataNode\" type\n",
    "        if \"data_source\" in result_dict and result_dict[\"data_source\"].startswith(\"AOP-Wiki\"):\n",
    "            node_types.add(\"AOP-Wiki\")\n",
    "\n",
    "        # don't need \"DataNode\" since it's a duplicate\n",
    "        node_types.pop('DataNode')\n",
    "\n",
    "        # Defensive code\n",
    "        if len(node_types) != 1:  # Should only be one node type\n",
    "            raise ValueError(f\"Too many node types: {node_types}\")\n",
    "\n",
    "        # Parse participants of wp:Complex nodes if present, Reactome complexes sometimes don't have participants\n",
    "        if \"Complex\" in node_types and \"participants\" in result_dict:\n",
    "            result_dict[\"participants\"] = set(result_dict[\"participants\"].split(\",\"))\n",
    "\n",
    "        result_dict[\"type\"] = node_types[0]\n",
    "\n",
    "        wp_id = result_dict[\"id\"]\n",
    "        nodes[wp_id] = result_dict\n",
    "\n",
    "    return nodes\n",
    "\n",
    "noncomplex_node_query = \"\"\"\n",
    "    SELECT ?id (GROUP_CONCAT(?type;SEPARATOR=\",\") AS ?types) ?label ?data_source ?data_source_id\n",
    "    WHERE {\n",
    "        ?id rdf:type wp:DataNode ;\n",
    "            rdf:type ?type .\n",
    "            ?id rdfs:label ?label .\n",
    "            ?id dc:source ?data_source .\n",
    "            ?id dcterms:identifier ?data_source_id .\n",
    "    }\n",
    "    GROUP BY ?id\n",
    "\"\"\"\n",
    "\n",
    "complex_node_query = \"\"\"\n",
    "    SELECT ?id ?types (GROUP_CONCAT(?ps ;SEPARATOR=\",\") AS ?participants)\n",
    "    WHERE {\n",
    "        ?id rdf:type wp:Complex ;\n",
    "            rdf:type ?types ;\n",
    "            wp:participants ?ps .\n",
    "    FILTER (STR(?types) = \"http://vocabularies.wikipathways.org/wp#Complex\") .\n",
    "    }\n",
    "    GROUP BY ?id\n",
    "\"\"\"\n",
    "\n",
    "# noncomplex_nodes = parse_nodes(wikipathway=wp111g, query=noncomplex_node_query)\n",
    "complex_nodes = parse_nodes(wikipathway=wp111g, query=complex_node_query)\n",
    "print(len(complex_nodes))\n",
    "nodes = {**noncomplex_nodes, **complex_nodes}"
   ]
  },
  {
   "cell_type": "markdown",
   "id": "99797f0c",
   "metadata": {},
   "source": [
    "### Parse Interactions"
   ]
  },
  {
   "cell_type": "code",
   "execution_count": null,
   "id": "d31c7bdb",
   "metadata": {
    "ExecuteTime": {
     "end_time": "2022-02-10T13:38:53.493600Z",
     "start_time": "2022-02-10T13:38:53.493600Z"
    }
   },
   "outputs": [],
   "source": [
    "# Get and parse edges\n",
    "# \";\" can be used when same subj/pred/obj used - https://www.stardog.com/tutorials/sparql#ordering-results\n",
    "int_q = \"\"\"\n",
    "    SELECT ?wp_id (GROUP_CONCAT(?type;SEPARATOR=\",\") AS ?types) ?source ?target ?identifier (GROUP_CONCAT(?ps ;SEPARATOR=\",\") AS ?participants)\n",
    "    WHERE {\n",
    "        ?wp_id rdf:type wp:Interaction ;\n",
    "            wp:participants ?ps ;\n",
    "            rdf:type ?type .\n",
    "        OPTIONAL {\n",
    "            ?wp_id wp:source ?source .\n",
    "            ?wp_id wp:target ?target .\n",
    "        }\n",
    "    }\n",
    "    GROUP BY ?wp_id\n",
    "\"\"\"\n",
    "\n",
    "interactions = dict()\n",
    "for match in wp111g.query(int_q):\n",
    "    result_dict = {key: str(val) for key, val in match.asdict().items()}\n",
    "    interaction_types = {int_type.split(\"#\")[1] for int_type in result_dict[\"types\"].split(\",\")}\n",
    "    result_dict[\"participants\"] = set(result_dict[\"participants\"].split(\",\"))\n",
    "    \n",
    "    # don't need \"Interaction\"\n",
    "    interaction_types.remove(\"Interaction\")\n",
    "    \n",
    "    # Binding always with ComplexBinding so keep only ComplexBinding\n",
    "    if \"ComplexBinding\" in interaction_types:\n",
    "        result_dict[\"types\"] = {\"ComplexBinding\"}\n",
    "        \n",
    "    else:result_dict[\"types\"]  = interaction_types\n",
    "    \n",
    "    wp_id = result_dict.pop(\"wp_id\")\n",
    "    interactions[wp_id] = result_dict\n",
    "\n",
    "result_dict"
   ]
  },
  {
   "cell_type": "markdown",
   "id": "4cfd58bf",
   "metadata": {
    "ExecuteTime": {
     "end_time": "2022-02-01T07:00:13.280105Z",
     "start_time": "2022-02-01T07:00:13.275106Z"
    }
   },
   "source": [
    "## Check Nodes in Parsed Interactions"
   ]
  },
  {
   "cell_type": "code",
   "execution_count": null,
   "id": "5492cca5",
   "metadata": {
    "ExecuteTime": {
     "end_time": "2022-02-10T13:38:53.494598Z",
     "start_time": "2022-02-10T13:38:53.494598Z"
    }
   },
   "outputs": [],
   "source": [
    "for iid, metadata in interactions.items():\n",
    "    for node_id in metadata[\"participants\"]:\n",
    "        if node_id not in nodes:\n",
    "            print(node_id)"
   ]
  },
  {
   "cell_type": "code",
   "execution_count": null,
   "id": "c153048d",
   "metadata": {},
   "outputs": [],
   "source": []
  }
 ],
 "metadata": {
  "kernelspec": {
   "display_name": "Python 3 (ipykernel)",
   "language": "python",
   "name": "python3"
  },
  "language_info": {
   "codemirror_mode": {
    "name": "ipython",
    "version": 3
   },
   "file_extension": ".py",
   "mimetype": "text/x-python",
   "name": "python",
   "nbconvert_exporter": "python",
   "pygments_lexer": "ipython3",
   "version": "3.10.0"
  }
 },
 "nbformat": 4,
 "nbformat_minor": 5
}
