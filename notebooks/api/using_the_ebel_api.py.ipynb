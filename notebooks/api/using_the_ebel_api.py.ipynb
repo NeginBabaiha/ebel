{
 "cells": [
  {
   "cell_type": "markdown",
   "id": "1bad08a4",
   "metadata": {},
   "source": [
    "# Using the e(BE:L) API\n",
    "\n",
    "Before working with the API on [localhost](http://127.0.0.1:5000/ui/) make sure the OrientDB database and the [e(BE:L) API server](http://127.0.0.1:5000/ui/) are running."
   ]
  },
  {
   "cell_type": "code",
   "execution_count": 21,
   "id": "234173bf",
   "metadata": {},
   "outputs": [],
   "source": [
    "import requests\n",
    "import json\n",
    "import urllib\n",
    "import pandas as pd\n",
    "from collections import namedtuple"
   ]
  },
  {
   "cell_type": "code",
   "execution_count": 22,
   "id": "8183b69e",
   "metadata": {},
   "outputs": [],
   "source": [
    "basic_url = \"http://127.0.0.1:5000/api/v1/\""
   ]
  },
  {
   "cell_type": "code",
   "execution_count": 23,
   "id": "ad6498be",
   "metadata": {},
   "outputs": [],
   "source": [
    "ApiResult = namedtuple('ApiResult', ['results', 'number_of_results', 'page', 'pages','page_size'])"
   ]
  },
  {
   "cell_type": "code",
   "execution_count": 24,
   "id": "ec46d6b5",
   "metadata": {},
   "outputs": [],
   "source": [
    "def get_api_result(method, **params) -> ApiResult:\n",
    "    response = requests.get(f\"{basic_url}/{method}\", params=params)\n",
    "    if response.status_code == 200:\n",
    "        return ApiResult(**response.json())"
   ]
  },
  {
   "cell_type": "markdown",
   "id": "9c14a92b",
   "metadata": {},
   "source": [
    "## BEL\n",
    "\n",
    "### edge\n",
    "\n",
    "http://127.0.0.1:5000/ui/#/BEL/ebel.web.api.ebel.v1.bel.get_edge"
   ]
  },
  {
   "cell_type": "markdown",
   "id": "09ce317e",
   "metadata": {},
   "source": [
    "#### without parameters"
   ]
  },
  {
   "cell_type": "code",
   "execution_count": 145,
   "id": "080366f0",
   "metadata": {},
   "outputs": [],
   "source": [
    "r = get_api_result('bel/edge')"
   ]
  },
  {
   "cell_type": "code",
   "execution_count": 146,
   "id": "e11763f7",
   "metadata": {},
   "outputs": [
    {
     "data": {
      "text/plain": [
       "(143800, 1, 10, 14380)"
      ]
     },
     "execution_count": 146,
     "metadata": {},
     "output_type": "execute_result"
    }
   ],
   "source": [
    "r.number_of_results, r.page, r.page_size, r.pages"
   ]
  },
  {
   "cell_type": "code",
   "execution_count": 149,
   "id": "92441677",
   "metadata": {},
   "outputs": [
    {
     "data": {
      "text/html": [
       "<div>\n",
       "<style scoped>\n",
       "    .dataframe tbody tr th:only-of-type {\n",
       "        vertical-align: middle;\n",
       "    }\n",
       "\n",
       "    .dataframe tbody tr th {\n",
       "        vertical-align: top;\n",
       "    }\n",
       "\n",
       "    .dataframe thead th {\n",
       "        text-align: right;\n",
       "    }\n",
       "</style>\n",
       "<table border=\"1\" class=\"dataframe\">\n",
       "  <thead>\n",
       "    <tr style=\"text-align: right;\">\n",
       "      <th></th>\n",
       "      <th>author_in_author_list</th>\n",
       "      <th>citation_full_journal_name</th>\n",
       "      <th>citation_last_author</th>\n",
       "      <th>citation_pub_date</th>\n",
       "      <th>citation_pub_year</th>\n",
       "      <th>citation_type</th>\n",
       "      <th>doi</th>\n",
       "      <th>edge_rid</th>\n",
       "      <th>evidence</th>\n",
       "      <th>object_bel</th>\n",
       "      <th>...</th>\n",
       "      <th>object_rid</th>\n",
       "      <th>relation</th>\n",
       "      <th>subject_bel</th>\n",
       "      <th>subject_gene_symbol_involved_in</th>\n",
       "      <th>subject_name</th>\n",
       "      <th>subject_namespace</th>\n",
       "      <th>subject_node_class</th>\n",
       "      <th>subject_other_involved_in</th>\n",
       "      <th>subject_rid</th>\n",
       "      <th>title</th>\n",
       "    </tr>\n",
       "  </thead>\n",
       "  <tbody>\n",
       "    <tr>\n",
       "      <th>0</th>\n",
       "      <td>[Kim DE, Kim Y, Cho DH, Jeong SY, Kim SB, Suh ...</td>\n",
       "      <td>Molecules and cells</td>\n",
       "      <td>Kim CS</td>\n",
       "      <td>2015-11-17</td>\n",
       "      <td>2015.0</td>\n",
       "      <td>PubMed</td>\n",
       "      <td>10.14348/molcells.2015.2193</td>\n",
       "      <td>#554:0</td>\n",
       "      <td>Raloxifene efficiently attenuated cell growth ...</td>\n",
       "      <td>bp(GO:\"cell death\")</td>\n",
       "      <td>...</td>\n",
       "      <td>#75:0</td>\n",
       "      <td>increases</td>\n",
       "      <td>a(CHEBI:\"raloxifene\")</td>\n",
       "      <td>[]</td>\n",
       "      <td>raloxifene</td>\n",
       "      <td>CHEBI</td>\n",
       "      <td>abundance</td>\n",
       "      <td>[raloxifene]</td>\n",
       "      <td>#122:0</td>\n",
       "      <td>Raloxifene induces autophagy-dependent cell de...</td>\n",
       "    </tr>\n",
       "  </tbody>\n",
       "</table>\n",
       "<p>1 rows × 25 columns</p>\n",
       "</div>"
      ],
      "text/plain": [
       "                               author_in_author_list  \\\n",
       "0  [Kim DE, Kim Y, Cho DH, Jeong SY, Kim SB, Suh ...   \n",
       "\n",
       "  citation_full_journal_name citation_last_author citation_pub_date  \\\n",
       "0        Molecules and cells               Kim CS        2015-11-17   \n",
       "\n",
       "   citation_pub_year citation_type                          doi edge_rid  \\\n",
       "0             2015.0        PubMed  10.14348/molcells.2015.2193   #554:0   \n",
       "\n",
       "                                            evidence           object_bel  \\\n",
       "0  Raloxifene efficiently attenuated cell growth ...  bp(GO:\"cell death\")   \n",
       "\n",
       "   ... object_rid   relation            subject_bel  \\\n",
       "0  ...      #75:0  increases  a(CHEBI:\"raloxifene\")   \n",
       "\n",
       "  subject_gene_symbol_involved_in subject_name subject_namespace  \\\n",
       "0                              []   raloxifene             CHEBI   \n",
       "\n",
       "  subject_node_class subject_other_involved_in subject_rid  \\\n",
       "0          abundance              [raloxifene]      #122:0   \n",
       "\n",
       "                                               title  \n",
       "0  Raloxifene induces autophagy-dependent cell de...  \n",
       "\n",
       "[1 rows x 25 columns]"
      ]
     },
     "execution_count": 149,
     "metadata": {},
     "output_type": "execute_result"
    }
   ],
   "source": [
    "pd.DataFrame(r.results).head(1)"
   ]
  },
  {
   "cell_type": "code",
   "execution_count": 164,
   "id": "cfffcf5e",
   "metadata": {},
   "outputs": [
    {
     "data": {
      "text/html": [
       "<div>\n",
       "<style scoped>\n",
       "    .dataframe tbody tr th:only-of-type {\n",
       "        vertical-align: middle;\n",
       "    }\n",
       "\n",
       "    .dataframe tbody tr th {\n",
       "        vertical-align: top;\n",
       "    }\n",
       "\n",
       "    .dataframe thead th {\n",
       "        text-align: right;\n",
       "    }\n",
       "</style>\n",
       "<table border=\"1\" class=\"dataframe\">\n",
       "  <thead>\n",
       "    <tr style=\"text-align: right;\">\n",
       "      <th></th>\n",
       "      <th>url</th>\n",
       "      <th>description</th>\n",
       "    </tr>\n",
       "  </thead>\n",
       "  <tbody>\n",
       "    <tr>\n",
       "      <th>0</th>\n",
       "      <td>/api/v1/bel/edge</td>\n",
       "      <td>Get BEL edge by PubMed ID</td>\n",
       "    </tr>\n",
       "    <tr>\n",
       "      <th>1</th>\n",
       "      <td>/api/v1/bel/nodes/by_namespace_name</td>\n",
       "      <td>Get all BEL nodes with name and namespace</td>\n",
       "    </tr>\n",
       "    <tr>\n",
       "      <th>2</th>\n",
       "      <td>/api/v1/biogrid</td>\n",
       "      <td>Get BioGRID protein-protein interactions.\\nNot...</td>\n",
       "    </tr>\n",
       "    <tr>\n",
       "      <th>3</th>\n",
       "      <td>/api/v1/biogrid/by_biogrid_id/{biogrid_id}</td>\n",
       "      <td>Get BioGrid entry by BioGrid ID.</td>\n",
       "    </tr>\n",
       "    <tr>\n",
       "      <th>4</th>\n",
       "      <td>/api/v1/biogrid/by_pmid/{pmid}</td>\n",
       "      <td>Get BioGrid entry by PubMed Identifier.</td>\n",
       "    </tr>\n",
       "    <tr>\n",
       "      <th>...</th>\n",
       "      <td>...</td>\n",
       "      <td>...</td>\n",
       "    </tr>\n",
       "    <tr>\n",
       "      <th>109</th>\n",
       "      <td>/api/v1/uniprot/gene/starts_with</td>\n",
       "      <td>UniProt gene starts with.</td>\n",
       "    </tr>\n",
       "    <tr>\n",
       "      <th>110</th>\n",
       "      <td>/api/v1/uniprot/gene_symbol/starts_with</td>\n",
       "      <td>UniProt gene symbol starts with.</td>\n",
       "    </tr>\n",
       "    <tr>\n",
       "      <th>111</th>\n",
       "      <td>/api/v1/uniprot/keyword/starts_with</td>\n",
       "      <td>UniProt keyword starts with.</td>\n",
       "    </tr>\n",
       "    <tr>\n",
       "      <th>112</th>\n",
       "      <td>/api/v1/uniprot/organism/starts_with</td>\n",
       "      <td>UniProt organism starts with.</td>\n",
       "    </tr>\n",
       "    <tr>\n",
       "      <th>113</th>\n",
       "      <td>/api/v1/uniprot/subcellular_location/starts_with</td>\n",
       "      <td>UniProt subcellular location starts with.</td>\n",
       "    </tr>\n",
       "  </tbody>\n",
       "</table>\n",
       "<p>114 rows × 2 columns</p>\n",
       "</div>"
      ],
      "text/plain": [
       "                                                  url  \\\n",
       "0                                    /api/v1/bel/edge   \n",
       "1                 /api/v1/bel/nodes/by_namespace_name   \n",
       "2                                     /api/v1/biogrid   \n",
       "3          /api/v1/biogrid/by_biogrid_id/{biogrid_id}   \n",
       "4                      /api/v1/biogrid/by_pmid/{pmid}   \n",
       "..                                                ...   \n",
       "109                  /api/v1/uniprot/gene/starts_with   \n",
       "110           /api/v1/uniprot/gene_symbol/starts_with   \n",
       "111               /api/v1/uniprot/keyword/starts_with   \n",
       "112              /api/v1/uniprot/organism/starts_with   \n",
       "113  /api/v1/uniprot/subcellular_location/starts_with   \n",
       "\n",
       "                                           description  \n",
       "0                            Get BEL edge by PubMed ID  \n",
       "1            Get all BEL nodes with name and namespace  \n",
       "2    Get BioGRID protein-protein interactions.\\nNot...  \n",
       "3                     Get BioGrid entry by BioGrid ID.  \n",
       "4              Get BioGrid entry by PubMed Identifier.  \n",
       "..                                                 ...  \n",
       "109                          UniProt gene starts with.  \n",
       "110                   UniProt gene symbol starts with.  \n",
       "111                       UniProt keyword starts with.  \n",
       "112                      UniProt organism starts with.  \n",
       "113          UniProt subcellular location starts with.  \n",
       "\n",
       "[114 rows x 2 columns]"
      ]
     },
     "execution_count": 164,
     "metadata": {},
     "output_type": "execute_result"
    }
   ],
   "source": [
    "methods = []\n",
    "path_values = requests.get('http://127.0.0.1:5000/openapi.json').json()['paths'].items()\n",
    "for method_name, values in path_values:\n",
    "    if 'get' in values:\n",
    "        description = values['get'].get('description')\n",
    "        methods.append((method_name, description))\n",
    "        \n",
    "pd.DataFrame(sorted(methods), columns=['url', 'description'])"
   ]
  },
  {
   "cell_type": "markdown",
   "id": "9f928748",
   "metadata": {},
   "source": [
    "#### by_rid"
   ]
  },
  {
   "cell_type": "code",
   "execution_count": 36,
   "id": "256a815d",
   "metadata": {},
   "outputs": [
    {
     "data": {
      "text/plain": [
       "{'bel': 'p(UNIPROT:\"P0DTC2\")',\n",
       " 'involved_genes': ['P0DTC2'],\n",
       " 'involved_other': [],\n",
       " 'label': 'Spike glycoprotein',\n",
       " 'name': 'P0DTC2',\n",
       " 'namespace': 'UNIPROT',\n",
       " 'pure': True,\n",
       " 'reactome_pathways': ['Attachment and Entry',\n",
       "  'Virion Assembly and Release',\n",
       "  'Translation of structural proteins',\n",
       "  'Maturation of spike protein'],\n",
       " 'species': 2697049,\n",
       " 'uniprot': 'P0DTC2'}"
      ]
     },
     "execution_count": 36,
     "metadata": {},
     "output_type": "execute_result"
    }
   ],
   "source": [
    "params = {'rid': '#188:3'}\n",
    "requests.get(f\"{basic_url}/bel/by_rid\", params=params).json()"
   ]
  },
  {
   "cell_type": "code",
   "execution_count": null,
   "id": "7f062e34",
   "metadata": {},
   "outputs": [],
   "source": []
  }
 ],
 "metadata": {
  "kernelspec": {
   "display_name": "ebel",
   "language": "python",
   "name": "ebel"
  },
  "language_info": {
   "codemirror_mode": {
    "name": "ipython",
    "version": 3
   },
   "file_extension": ".py",
   "mimetype": "text/x-python",
   "name": "python",
   "nbconvert_exporter": "python",
   "pygments_lexer": "ipython3",
   "version": "3.8.10"
  },
  "toc": {
   "base_numbering": 1,
   "nav_menu": {},
   "number_sections": true,
   "sideBar": true,
   "skip_h1_title": true,
   "title_cell": "Table of Contents",
   "title_sidebar": "Contents",
   "toc_cell": false,
   "toc_position": {},
   "toc_section_display": true,
   "toc_window_display": true
  }
 },
 "nbformat": 4,
 "nbformat_minor": 5
}
